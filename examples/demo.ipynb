{
 "cells": [
  {
   "cell_type": "code",
   "execution_count": 1,
   "metadata": {},
   "outputs": [],
   "source": [
    "import pandas as pd\n",
    "import pyarrow.parquet as pq\n",
    "from datasets import Dataset"
   ]
  },
  {
   "cell_type": "markdown",
   "metadata": {},
   "source": [
    "## Load the Wikipedia Dataset and view contents\n",
    "Note : The original wiki_en_data.parquet is a ~10GB file. We have provided with a sample parquet with 1000 entries for demo purposes."
   ]
  },
  {
   "cell_type": "code",
   "execution_count": 2,
   "metadata": {},
   "outputs": [],
   "source": [
    "df = pd.read_parquet(\"sample_data/sample_wiki_en_data.parquet\")"
   ]
  },
  {
   "cell_type": "code",
   "execution_count": 3,
   "metadata": {},
   "outputs": [
    {
     "name": "stdout",
     "output_type": "stream",
     "text": [
      "<class 'pandas.core.frame.DataFrame'>\n",
      "RangeIndex: 1000 entries, 0 to 999\n",
      "Data columns (total 6 columns):\n",
      " #   Column     Non-Null Count  Dtype \n",
      "---  ------     --------------  ----- \n",
      " 0   title      1000 non-null   object\n",
      " 1   body       1000 non-null   object\n",
      " 2   source     1000 non-null   object\n",
      " 3   url        1000 non-null   object\n",
      " 4   langCode   1000 non-null   object\n",
      " 5   timestamp  1000 non-null   object\n",
      "dtypes: object(6)\n",
      "memory usage: 47.0+ KB\n"
     ]
    }
   ],
   "source": [
    "df.info()"
   ]
  },
  {
   "cell_type": "code",
   "execution_count": 4,
   "metadata": {},
   "outputs": [
    {
     "data": {
      "text/html": [
       "<div>\n",
       "<style scoped>\n",
       "    .dataframe tbody tr th:only-of-type {\n",
       "        vertical-align: middle;\n",
       "    }\n",
       "\n",
       "    .dataframe tbody tr th {\n",
       "        vertical-align: top;\n",
       "    }\n",
       "\n",
       "    .dataframe thead th {\n",
       "        text-align: right;\n",
       "    }\n",
       "</style>\n",
       "<table border=\"1\" class=\"dataframe\">\n",
       "  <thead>\n",
       "    <tr style=\"text-align: right;\">\n",
       "      <th></th>\n",
       "      <th>title</th>\n",
       "      <th>body</th>\n",
       "      <th>source</th>\n",
       "      <th>url</th>\n",
       "      <th>langCode</th>\n",
       "      <th>timestamp</th>\n",
       "    </tr>\n",
       "  </thead>\n",
       "  <tbody>\n",
       "    <tr>\n",
       "      <th>0</th>\n",
       "      <td>Boycott (album)</td>\n",
       "      <td>\\nBoycott (album)\\n\\n\\n\\n</td>\n",
       "      <td>wiki</td>\n",
       "      <td>https://en.wikipedia.org/wiki?curid=63405427</td>\n",
       "      <td>en</td>\n",
       "      <td>24/07/23 15:06</td>\n",
       "    </tr>\n",
       "    <tr>\n",
       "      <th>1</th>\n",
       "      <td>Javier Gallo</td>\n",
       "      <td>\\nJavier Gallo\\n\\nJavier Gallo González (born ...</td>\n",
       "      <td>wiki</td>\n",
       "      <td>https://en.wikipedia.org/wiki?curid=31637473</td>\n",
       "      <td>en</td>\n",
       "      <td>24/07/23 14:49</td>\n",
       "    </tr>\n",
       "    <tr>\n",
       "      <th>2</th>\n",
       "      <td>R. M. Tristram</td>\n",
       "      <td>\\nR. M. Tristram\\n\\n\\n\\n</td>\n",
       "      <td>wiki</td>\n",
       "      <td>https://en.wikipedia.org/wiki?curid=56333678</td>\n",
       "      <td>en</td>\n",
       "      <td>24/07/23 15:02</td>\n",
       "    </tr>\n",
       "    <tr>\n",
       "      <th>3</th>\n",
       "      <td>T. J. Carter (defensive back)</td>\n",
       "      <td>\\nT. J. Carter (defensive back)\\n\\nT. J. Carte...</td>\n",
       "      <td>wiki</td>\n",
       "      <td>https://en.wikipedia.org/wiki?curid=72605589</td>\n",
       "      <td>en</td>\n",
       "      <td>24/07/23 15:11</td>\n",
       "    </tr>\n",
       "    <tr>\n",
       "      <th>4</th>\n",
       "      <td>Wrestling at the 2015 Pan American Games - Men...</td>\n",
       "      <td>\\nWrestling at the 2015 Pan American Games - M...</td>\n",
       "      <td>wiki</td>\n",
       "      <td>https://en.wikipedia.org/wiki?curid=49831530</td>\n",
       "      <td>en</td>\n",
       "      <td>24/07/23 14:59</td>\n",
       "    </tr>\n",
       "  </tbody>\n",
       "</table>\n",
       "</div>"
      ],
      "text/plain": [
       "                                               title  \\\n",
       "0                                    Boycott (album)   \n",
       "1                                       Javier Gallo   \n",
       "2                                     R. M. Tristram   \n",
       "3                      T. J. Carter (defensive back)   \n",
       "4  Wrestling at the 2015 Pan American Games - Men...   \n",
       "\n",
       "                                                body source  \\\n",
       "0                          \\nBoycott (album)\\n\\n\\n\\n   wiki   \n",
       "1  \\nJavier Gallo\\n\\nJavier Gallo González (born ...   wiki   \n",
       "2                           \\nR. M. Tristram\\n\\n\\n\\n   wiki   \n",
       "3  \\nT. J. Carter (defensive back)\\n\\nT. J. Carte...   wiki   \n",
       "4  \\nWrestling at the 2015 Pan American Games - M...   wiki   \n",
       "\n",
       "                                            url langCode       timestamp  \n",
       "0  https://en.wikipedia.org/wiki?curid=63405427       en  24/07/23 15:06  \n",
       "1  https://en.wikipedia.org/wiki?curid=31637473       en  24/07/23 14:49  \n",
       "2  https://en.wikipedia.org/wiki?curid=56333678       en  24/07/23 15:02  \n",
       "3  https://en.wikipedia.org/wiki?curid=72605589       en  24/07/23 15:11  \n",
       "4  https://en.wikipedia.org/wiki?curid=49831530       en  24/07/23 14:59  "
      ]
     },
     "execution_count": 4,
     "metadata": {},
     "output_type": "execute_result"
    }
   ],
   "source": [
    "df.head()"
   ]
  },
  {
   "cell_type": "code",
   "execution_count": 5,
   "metadata": {},
   "outputs": [
    {
     "data": {
      "text/plain": [
       "source\n",
       "wiki    1000\n",
       "Name: count, dtype: int64"
      ]
     },
     "execution_count": 5,
     "metadata": {},
     "output_type": "execute_result"
    }
   ],
   "source": [
    "df['source'].value_counts()"
   ]
  },
  {
   "cell_type": "markdown",
   "metadata": {},
   "source": [
    "## First we perform Templating Stage on the dataset"
   ]
  },
  {
   "cell_type": "code",
   "execution_count": 7,
   "metadata": {},
   "outputs": [
    {
     "name": "stdout",
     "output_type": "stream",
     "text": [
      "Generating train split: 1000 examples [00:00, 2900.27 examples/s]\n",
      "Loaded Dataset from path - /home/kd/Desktop/proj/dec/setu-translate/examples/sample_data/sample_wiki_en_data.parquet\n",
      "Map: 100%|███████████████████████████| 100/100 [00:00<00:00, 2008.51 examples/s]\n",
      "Performed `templating`\n",
      "Filter: 100%|███████████████████████| 100/100 [00:00<00:00, 72792.50 examples/s]\n",
      "Filtered `null` text docs\n",
      "Map: 100%|██████████████████████████| 100/100 [00:00<00:00, 37813.78 examples/s]\n",
      "Saving the dataset (1/1 shards): 100%|█| 100/100 [00:00<00:00, 58522.45 examples\n",
      "Saved `templated` dataset to /mnt/sea/setu-translate/examples/output/wiki_en/templated\n"
     ]
    }
   ],
   "source": [
    "!HF_DATASETS_CACHE=/mnt/sea/tmp python /home/kd/Desktop/proj/dec/setu-translate/stages/perform_templating.py \\\n",
    "    --glob_path \"/home/kd/Desktop/proj/dec/setu-translate/examples/sample_data/sample_wiki_en_data.parquet\" \\\n",
    "    --cache_dir_for_original_data \"/mnt/sea/setu-translate/examples/cache\" \\\n",
    "    --base_save_path \"/mnt/sea/setu-translate/examples/output/wiki_en/doc_csvs\" \\\n",
    "    --save_path \"/mnt/sea/setu-translate/examples/output/wiki_en/templated\" \\\n",
    "    --text_col body \\\n",
    "    --url_col url \\\n",
    "    --timestamp_col timestamp \\\n",
    "    --source_type wiki_en \\\n",
    "    --translation_type sentence \\\n",
    "    --use_cache False \\\n",
    "    --split \"train[:100]\""
   ]
  },
  {
   "cell_type": "markdown",
   "metadata": {},
   "source": [
    "Also while viewing stage output .arrow files make sure the filepaths are proper while using Dataset.from_file()"
   ]
  },
  {
   "cell_type": "code",
   "execution_count": 35,
   "metadata": {},
   "outputs": [],
   "source": [
    "ds = Dataset.from_file(\"/mnt/sea/setu-translate/examples/output/wiki_en/templated/data-00000-of-00001.arrow\")"
   ]
  },
  {
   "cell_type": "code",
   "execution_count": 36,
   "metadata": {},
   "outputs": [
    {
     "data": {
      "text/plain": [
       "Dataset({\n",
       "    features: ['source', 'url', 'timestamp', 'doc_id', 'text', 'sub_strs', 'sids', 'tlt_folder'],\n",
       "    num_rows: 100\n",
       "})"
      ]
     },
     "execution_count": 36,
     "metadata": {},
     "output_type": "execute_result"
    }
   ],
   "source": [
    "ds"
   ]
  },
  {
   "cell_type": "markdown",
   "metadata": {},
   "source": [
    "#### View the templated dataset output"
   ]
  },
  {
   "cell_type": "code",
   "execution_count": 37,
   "metadata": {},
   "outputs": [
    {
     "data": {
      "text/plain": [
       "{'source': 'en_wikipedia',\n",
       " 'url': 'https://en.wikipedia.org/wiki?curid=72605589',\n",
       " 'timestamp': '24/07/23 15:11',\n",
       " 'doc_id': 'fe507095d28e80fad27e69bb5672d78cf7a06487ae4972ed7c7df5b504bc26e1',\n",
       " 'text': '\\nt. j. carter (defensive back)\\n\\nt. j. carter (born april 3, 1999) is an american football strong safety for the birmingham stallions of the united states football league (usfl). he played college football at memphis and tcu and was signed by the los angeles rams as an undrafted free agent in .\\nearly life and education.\\ncarter was born on april 3, 1999, in nashville, tennessee. he attended hendersonville high school, where he played football as a sophomore and junior. playing running back, defensive back, and return specialist, carter led the team with 1,084 rushing yards as a junior and was named all-mid-state by \"the tennessean\", 6-5a specialty player of the year, and all-region. he was dismissed from the team prior to his senior year due to violating team rules, and subsequently transferred to stratford high school. carter helped stratford compile an undefeated regular season record, while gaining over 2,100 all-purpose yards and scoring 22 touchdowns. he was rated by scout.com the best defensive back in all of tennessee, and according to 247sports and rivals.com was among the top-50 players at the position nationally.\\nafter graduating from stratford, carter announced his commitment to play college football at memphis. he became a starter as a true freshman in 2017 and appeared in all 13 games, posting a school freshman record five interceptions. he also placed fifth on the roster with 69 tackles. as a sophomore, carter was third on the team with 68 tackles, recorded two interceptions, and tallied a team-leading 12 pass breakups while appearing in all 14 matches.\\nin 2019, as a junior, carter appeared in 12 of the team\\'s 14 games and posted 39 tackles, a forced fumble and recovery, and seven passes broken up. the following season, he made 11 tackles in seven appearances. after receiving one extra year of eligibility due to the covid-19 pandemic, carter transferred to tcu in 2021. as a fifth-year senior, he started ten games, missing the final two due to injury, and placed second on the team with 63 tackles.\\nprofessional career.\\nlos angeles rams.\\nafter going unselected in the 2022 nfl draft, carter was signed as an undrafted free agent by the los angeles rams. he was waived on may 17, but then brought back the following day. at the final roster cuts on august 30, he was waived, but afterwards was re-signed to the practice squad. carter was elevated to the active roster for their week 16 match versus the denver broncos, and made his nfl debut in the 51–14 win, recording one tackle. he signed a reserve/futures contract on january 9, 2023. on march 10, carter was waived.\\nbirmingham stallions.\\ncarter signed with the birmingham stallions of the usfl on march 20, 2023.\\n\\n',\n",
       " 'sub_strs': '[\"t.\", \"j.\", \"carter (defensive back)\", \"carter (born april 3, 1999) is an american football strong safety for the birmingham stallions of the united states football league (usfl).\", \"he played college football at memphis and tcu and was signed by the los angeles rams as an undrafted free agent in .\", \"early life and education.\", \"carter was born on april 3, 1999, in nashville, tennessee.\", \"he attended hendersonville high school, where he played football as a sophomore and junior.\", \"playing running back, defensive back, and return specialist, carter led the team with 1,084 rushing yards as a junior and was named all-mid-state by \\\\\"the tennessean\\\\\", 6-5a specialty player of the year, and all-region.\", \"he was dismissed from the team prior to his senior year due to violating team rules, and subsequently transferred to stratford high school.\", \"carter helped stratford compile an undefeated regular season record, while gaining over 2,100 all-purpose yards and scoring 22 touchdowns.\", \"he was rated by scout.\", \"com the best defensive back in all of tennessee, and according to 247sports and rivals.\", \"com was among the top-50 players at the position nationally.\", \"after graduating from stratford, carter announced his commitment to play college football at memphis.\", \"he became a starter as a true freshman in 2017 and appeared in all 13 games, posting a school freshman record five interceptions.\", \"he also placed fifth on the roster with 69 tackles.\", \"as a sophomore, carter was third on the team with 68 tackles, recorded two interceptions, and tallied a team-leading 12 pass breakups while appearing in all 14 matches.\", \"in 2019, as a junior, carter appeared in 12 of the team\\'s 14 games and posted 39 tackles, a forced fumble and recovery, and seven passes broken up.\", \"the following season, he made 11 tackles in seven appearances.\", \"after receiving one extra year of eligibility due to the covid-19 pandemic, carter transferred to tcu in 2021. as a fifth-year senior, he started ten games, missing the final two due to injury, and placed second on the team with 63 tackles.\", \"professional career.\", \"los angeles rams.\", \"after going unselected in the 2022 nfl draft, carter was signed as an undrafted free agent by the los angeles rams.\", \"he was waived on may 17, but then brought back the following day.\", \"at the final roster cuts on august 30, he was waived, but afterwards was re-signed to the practice squad.\", \"carter was elevated to the active roster for their week 16 match versus the denver broncos, and made his nfl debut in the 51\\\\u201314 win, recording one tackle.\", \"he signed a reserve/futures contract on january 9, 2023. on march 10, carter was waived.\", \"birmingham stallions.\", \"carter signed with the birmingham stallions of the usfl on march 20, 2023.\"]',\n",
       " 'sids': '[\"b29edf0cce954f7ebc080c723f9df03c230bf302d797f8db445a17d2d131e083\", \"db7b1235412cd3b84e61ab8ad6449499074c8bd5723ff30bd5256ae863d0d1fd\", \"79c58e771255730f778424fc304e386ab1e24321378824b46232b2acb36a0713\", \"323917d7c8307256b35aeb5bbe481bf5574afc24ec766d14c763a066abcbebd5\", \"389ddd9b3cbb9a49b64818fdda5b18fc87bc2e0fe82ebbedb35430e6af5276e3\", \"8c5afe3e67faff2a7eeab9b4757e2ed423513208a90789f8d45f3312033b49ca\", \"f4d03dd90bc9f1eca9aa2601507d0f4109839494c4d5727f4397f058cbc17434\", \"f2e22b8de588b53fc9109535b82b3e365ab43f48fd9eb7816c399cd304c3ce01\", \"5e144c91495b12dad150bbbb5fbb49379fb6b6f8cedd960e24a55d9299ab14b4\", \"33dcea5e422bd29dd0e355fb9b4a2e67f210ba11c0e89031433c10503d826c71\", \"498a1c8fc5de5b3c1b10f1f5ca288d8f64671bb53a1c1ead18e9dffca2582b6d\", \"fa439c361aedeb4d4e12151c0c6d0eb87335545da62a6859baba9727d03c1e81\", \"2ef6bcb45dfa30643983d76986dc4e1583bf911d179ba5b9935be50642bb85b2\", \"cf3bc3d6f6528c1f51675a201ef511d1ab2ccdbba4c66c39cef7f985276acb77\", \"67b30949ebd9fe96f6f7cc6f37bc4211222081b3a01b313980922914093ea540\", \"6d8f1b2bc8b86982a7c02d8e9e948dfb55b8695721ea521b49b642111c011533\", \"07004a0a50a6103096d626c669b46c475704e1610f589e85c4907db9d5e3aee7\", \"3b11cbe6445fb0c29f39d97de689c5625323106297487df67c2df62cbc6b0eaa\", \"109e0a2cc9634d7d67b1d748dd00fbe78659bfe5ef9f951b01f22ff3234003bf\", \"1edd4bcaf198469c87b46badac984c15935c7e9de479a505aa1eba23d251a455\", \"0110183d76a38bdc339ddd8b8b73105a5ff2edf4113cff76e39bf7c4fdc5fa3c\", \"b4a97ee525bc0cf914d511988f9065a373970dd2ca366d41a7192125fecce2fc\", \"d2cc077f2dab2f48d46f16658160c58e580f958ca5bfe5f668643ca8b506f945\", \"3f34088c3ec9f18ae86f2ed67c89c3bdeca5b1c460e6158a56532343057e1dcf\", \"aaa455edcea3ef5a0f30bbeef3797aaae389aef5a0de849e762f069ec6cc3f89\", \"638f5a854a009edc2ee06ad8fa8ec43c202e054bdf885ff3531883015edc888e\", \"08a13df6721a9803d696a752dd3e33d629b939e0bec6064a329642ccbbff6e9e\", \"122b459befa603aa64a8661dada602907ec69cbad8e15e7587de40cbecb37708\", \"bb50d38a0a5bb8b251b5c02a47fadab9557d71b9df02179c6f0b2b82e852c6c7\", \"3bec0e9de2e1f5c95d8ef1139e306d0b9f3fe8a618b6c35c91cdc9aff29d1f71\"]',\n",
       " 'tlt_folder': '/mnt/sea/setu-translate/examples/output/wiki_en/doc_csvs/51f2696d83d68db933cbe2ba69586bfc8d17321ab3bac398a3c536fb4699ae29/fe507095d28e80fad27e69bb5672d78cf7a06487ae4972ed7c7df5b504bc26e1'}"
      ]
     },
     "execution_count": 37,
     "metadata": {},
     "output_type": "execute_result"
    }
   ],
   "source": [
    "ds[3]"
   ]
  },
  {
   "cell_type": "code",
   "execution_count": 38,
   "metadata": {},
   "outputs": [
    {
     "data": {
      "text/plain": [
       "['\\nboycott (album)\\n\\n\\n\\n',\n",
       " '\\njavier gallo\\n\\njavier gallo gonzález (born 6 august 1983) is a mexican professional boxer.\\nprofessional career.\\nin may 2011, gallo lost a majority decision to former world champion rodel mayol on showtime\\'s televised portion of the pacquiao vs. mosley undercard.\\non september 9, 2011 at the \"war at woodland hills 5\", gallo won with a tko over jason rorie.\\n\\n',\n",
       " '\\nr. m. tristram\\n\\n\\n\\n',\n",
       " '\\nt. j. carter (defensive back)\\n\\nt. j. carter (born april 3, 1999) is an american football strong safety for the birmingham stallions of the united states football league (usfl). he played college football at memphis and tcu and was signed by the los angeles rams as an undrafted free agent in .\\nearly life and education.\\ncarter was born on april 3, 1999, in nashville, tennessee. he attended hendersonville high school, where he played football as a sophomore and junior. playing running back, defensive back, and return specialist, carter led the team with 1,084 rushing yards as a junior and was named all-mid-state by \"the tennessean\", 6-5a specialty player of the year, and all-region. he was dismissed from the team prior to his senior year due to violating team rules, and subsequently transferred to stratford high school. carter helped stratford compile an undefeated regular season record, while gaining over 2,100 all-purpose yards and scoring 22 touchdowns. he was rated by scout.com the best defensive back in all of tennessee, and according to 247sports and rivals.com was among the top-50 players at the position nationally.\\nafter graduating from stratford, carter announced his commitment to play college football at memphis. he became a starter as a true freshman in 2017 and appeared in all 13 games, posting a school freshman record five interceptions. he also placed fifth on the roster with 69 tackles. as a sophomore, carter was third on the team with 68 tackles, recorded two interceptions, and tallied a team-leading 12 pass breakups while appearing in all 14 matches.\\nin 2019, as a junior, carter appeared in 12 of the team\\'s 14 games and posted 39 tackles, a forced fumble and recovery, and seven passes broken up. the following season, he made 11 tackles in seven appearances. after receiving one extra year of eligibility due to the covid-19 pandemic, carter transferred to tcu in 2021. as a fifth-year senior, he started ten games, missing the final two due to injury, and placed second on the team with 63 tackles.\\nprofessional career.\\nlos angeles rams.\\nafter going unselected in the 2022 nfl draft, carter was signed as an undrafted free agent by the los angeles rams. he was waived on may 17, but then brought back the following day. at the final roster cuts on august 30, he was waived, but afterwards was re-signed to the practice squad. carter was elevated to the active roster for their week 16 match versus the denver broncos, and made his nfl debut in the 51–14 win, recording one tackle. he signed a reserve/futures contract on january 9, 2023. on march 10, carter was waived.\\nbirmingham stallions.\\ncarter signed with the birmingham stallions of the usfl on march 20, 2023.\\n\\n',\n",
       " \"\\nwrestling at the 2015 pan american games - men's freestyle 57 kg\\n\\n\\n\\n\",\n",
       " '\\npapilla dentis\\n\\n\\n\\n',\n",
       " '\\nkriva river\\n\\n\\n\\n',\n",
       " '\\nautovía a-36\\n\\n\\n\\n',\n",
       " '\\nmad about you (sting song)\\n\\n\"mad about you\" is a song by english artist sting, released in march 1991 as the second single from his third studio album, \"the soul cages\" (1991). the song’s lyrics are based on the story of king david from the book of samuel. the single did not match the success of its predecessor, \"all this time\", only reaching number 56 on the uk singles chart and missing the \"billboard\" hot 100 completely.\\ncritical reception.\\npan-european magazine \"music & media\" wrote, \"mostly he sounds calculated, but sting can still be a thrill. this second single, the best track from his new album \"the soul cages\", is destined for greatness.\"\\n\\n',\n",
       " '\\nsamuel kyere (footballer born 1992)\\n\\n\\n\\n']"
      ]
     },
     "execution_count": 38,
     "metadata": {},
     "output_type": "execute_result"
    }
   ],
   "source": [
    "ds[0:10]['text']"
   ]
  },
  {
   "cell_type": "markdown",
   "metadata": {},
   "source": [
    "## Create the Global Sentence Level Dataset"
   ]
  },
  {
   "cell_type": "code",
   "execution_count": 14,
   "metadata": {},
   "outputs": [
    {
     "name": "stdout",
     "output_type": "stream",
     "text": [
      "Generating train split: 100 examples [00:00, 293.80 examples/s]\n",
      "Map: 100%|██████████████████████████| 100/100 [00:00<00:00, 10974.39 examples/s]\n",
      "Map: 100%|█████████████████████████| 612/612 [00:00<00:00, 330064.81 examples/s]\n",
      "Saving the dataset (1/1 shards): 100%|█| 612/612 [00:00<00:00, 345479.68 example\n"
     ]
    }
   ],
   "source": [
    "!HF_DATASETS_CACHE=/mnt/sea/tmp python /home/kd/Desktop/proj/dec/setu-translate/stages/create_global_ds.py \\\n",
    "    --paths_data \"/mnt/sea/setu-translate/examples/output/wiki_en/templated/*.arrow\" \\\n",
    "    --cache_dir \"/mnt/sea/setu-translate/examples/cache\" \\\n",
    "    --global_sent_ds_path \"/mnt/sea/setu-translate/examples/output/wiki_en/sentences\""
   ]
  },
  {
   "cell_type": "code",
   "execution_count": 39,
   "metadata": {},
   "outputs": [],
   "source": [
    "ds = Dataset.from_file(\"/mnt/sea/setu-translate/examples/output/wiki_en/sentences/data-00000-of-00001.arrow\")"
   ]
  },
  {
   "cell_type": "code",
   "execution_count": 40,
   "metadata": {},
   "outputs": [
    {
     "data": {
      "text/plain": [
       "Dataset({\n",
       "    features: ['doc_id', 'sub_strs', 'sids', 'tlt_file_loc', 'tlt_idx'],\n",
       "    num_rows: 612\n",
       "})"
      ]
     },
     "execution_count": 40,
     "metadata": {},
     "output_type": "execute_result"
    }
   ],
   "source": [
    "ds"
   ]
  },
  {
   "cell_type": "code",
   "execution_count": 41,
   "metadata": {},
   "outputs": [
    {
     "data": {
      "text/plain": [
       "{'doc_id': '3a49c2ca2abe23e0bdd3a2a9dcc8e98b31646fdccaad28d6f5313a98c8ac48d7',\n",
       " 'sub_strs': 'the commune is traversed by the dourdou de camarès river.',\n",
       " 'sids': '727ceece2619d9f99b26412dadff02cdf077c9361556a6a23fb7d86db12145e0',\n",
       " 'tlt_file_loc': '/mnt/sea/setu-translate/examples/output/wiki_en/doc_csvs/51f2696d83d68db933cbe2ba69586bfc8d17321ab3bac398a3c536fb4699ae29/3a49c2ca2abe23e0bdd3a2a9dcc8e98b31646fdccaad28d6f5313a98c8ac48d7/727ceece2619d9f99b26412dadff02cdf077c9361556a6a23fb7d86db12145e0',\n",
       " 'tlt_idx': 66}"
      ]
     },
     "execution_count": 41,
     "metadata": {},
     "output_type": "execute_result"
    }
   ],
   "source": [
    "ds[66]"
   ]
  },
  {
   "cell_type": "code",
   "execution_count": 42,
   "metadata": {},
   "outputs": [
    {
     "data": {
      "text/plain": [
       "['boycott (album)',\n",
       " 'javier gallo',\n",
       " 'javier gallo gonzález (born 6 august 1983) is a mexican professional boxer.',\n",
       " 'professional career.',\n",
       " \"in may 2011, gallo lost a majority decision to former world champion rodel mayol on showtime's televised portion of the pacquiao vs.\",\n",
       " 'mosley undercard.',\n",
       " 'on september 9, 2011 at the \"war at woodland hills 5\", gallo won with a tko over jason rorie.',\n",
       " 'r.',\n",
       " 'm.',\n",
       " 'tristram']"
      ]
     },
     "execution_count": 42,
     "metadata": {},
     "output_type": "execute_result"
    }
   ],
   "source": [
    "ds[0:10][\"sub_strs\"]"
   ]
  },
  {
   "cell_type": "markdown",
   "metadata": {},
   "source": [
    "## Now Binarize the Sentence Level Dataset"
   ]
  },
  {
   "cell_type": "code",
   "execution_count": 45,
   "metadata": {},
   "outputs": [
    {
     "name": "stdout",
     "output_type": "stream",
     "text": [
      "Generating train split: 612 examples [00:00, 1819.67 examples/s]\n",
      "Loaded Dataset....\n",
      "Map: 100%|███████████████████████████| 612/612 [00:00<00:00, 2913.29 examples/s]\n",
      "Saving Binarized Dataset....\n",
      "Saving the dataset (1/1 shards): 100%|█| 612/612 [00:00<00:00, 133958.57 example\n"
     ]
    }
   ],
   "source": [
    "!HF_DATASETS_CACHE=/mnt/sea/tmp python /home/kd/Desktop/proj/dec/setu-translate/stages/binarize.py \\\n",
    "    --data_files \"/mnt/sea/setu-translate/examples/output/wiki_en/sentences/*.arrow\" \\\n",
    "    --cache_dir \"/mnt/sea/setu-translate/examples/cache\" \\\n",
    "    --binarized_dir \"/mnt/sea/setu-translate/examples/output/wiki_en/binarized_sentences\" \\\n",
    "    --batch_size 2048 \\\n",
    "    --total_procs 1 \\\n",
    "    --padding max_length \\\n",
    "    --src_lang eng_Latn \\\n",
    "    --tgt_lang pan_Guru \\\n",
    "    --return_format pt"
   ]
  },
  {
   "cell_type": "code",
   "execution_count": 48,
   "metadata": {},
   "outputs": [
    {
     "data": {
      "text/plain": [
       "Dataset({\n",
       "    features: ['doc_id', 'sub_strs', 'sids', 'tlt_file_loc', 'tlt_idx', 'input_ids', 'attention_mask', 'placeholder_entity_map'],\n",
       "    num_rows: 612\n",
       "})"
      ]
     },
     "execution_count": 48,
     "metadata": {},
     "output_type": "execute_result"
    }
   ],
   "source": [
    "ds = Dataset.from_file(\"/mnt/sea/setu-translate/examples/output/wiki_en/binarized_sentences/data-00000-of-00001.arrow\")\n",
    "ds"
   ]
  },
  {
   "cell_type": "code",
   "execution_count": 49,
   "metadata": {},
   "outputs": [
    {
     "data": {
      "text/plain": [
       "['boycott (album)',\n",
       " 'javier gallo',\n",
       " 'javier gallo gonzález (born 6 august 1983) is a mexican professional boxer.',\n",
       " 'professional career.',\n",
       " \"in may 2011, gallo lost a majority decision to former world champion rodel mayol on showtime's televised portion of the pacquiao vs.\",\n",
       " 'mosley undercard.',\n",
       " 'on september 9, 2011 at the \"war at woodland hills 5\", gallo won with a tko over jason rorie.',\n",
       " 'r.',\n",
       " 'm.',\n",
       " 'tristram']"
      ]
     },
     "execution_count": 49,
     "metadata": {},
     "output_type": "execute_result"
    }
   ],
   "source": [
    "ds[0:10][\"sub_strs\"]"
   ]
  },
  {
   "cell_type": "code",
   "execution_count": 53,
   "metadata": {},
   "outputs": [
    {
     "name": "stdout",
     "output_type": "stream",
     "text": [
      "[1, 1, 1, 1, 1, 1, 1, 1, 1, 1, 1, 1, 1, 1, 1, 1, 1, 1, 1, 1, 1, 1, 1, 1, 1, 1, 1, 1, 1, 1, 1, 1, 1, 1, 1, 1, 1, 1, 1, 1, 1, 1, 1, 1, 1, 1, 1, 1, 1, 1, 1, 1, 1, 1, 1, 1, 1, 1, 1, 1, 1, 1, 1, 1, 1, 1, 1, 1, 1, 1, 1, 1, 1, 1, 1, 1, 1, 1, 1, 1, 1, 1, 1, 1, 1, 1, 1, 1, 1, 1, 1, 1, 1, 1, 1, 1, 1, 1, 1, 1, 1, 1, 1, 1, 1, 1, 1, 1, 1, 1, 1, 1, 1, 1, 1, 1, 1, 1, 1, 1, 1, 1, 1, 1, 1, 1, 1, 1, 1, 1, 1, 1, 1, 1, 1, 1, 1, 1, 1, 1, 1, 1, 1, 1, 1, 1, 1, 1, 1, 1, 1, 1, 1, 1, 1, 1, 1, 1, 1, 1, 1, 1, 1, 1, 1, 1, 1, 1, 1, 1, 1, 1, 1, 1, 1, 1, 1, 1, 1, 1, 1, 1, 1, 1, 1, 1, 1, 1, 1, 1, 1, 1, 1, 1, 1, 1, 1, 1, 1, 1, 1, 1, 1, 1, 1, 1, 1, 1, 1, 1, 1, 1, 1, 1, 1, 1, 1, 1, 1, 1, 1, 1, 1, 1, 1, 1, 1, 1, 1, 1, 1, 1, 1, 1, 1, 1, 1, 1, 1, 1, 1, 1, 1, 1, 1, 1, 1, 1, 1, 4, 46, 18178, 53, 4994, 52, 2]\n",
      "[1, 1, 1, 1, 1, 1, 1, 1, 1, 1, 1, 1, 1, 1, 1, 1, 1, 1, 1, 1, 1, 1, 1, 1, 1, 1, 1, 1, 1, 1, 1, 1, 1, 1, 1, 1, 1, 1, 1, 1, 1, 1, 1, 1, 1, 1, 1, 1, 1, 1, 1, 1, 1, 1, 1, 1, 1, 1, 1, 1, 1, 1, 1, 1, 1, 1, 1, 1, 1, 1, 1, 1, 1, 1, 1, 1, 1, 1, 1, 1, 1, 1, 1, 1, 1, 1, 1, 1, 1, 1, 1, 1, 1, 1, 1, 1, 1, 1, 1, 1, 1, 1, 1, 1, 1, 1, 1, 1, 1, 1, 1, 1, 1, 1, 1, 1, 1, 1, 1, 1, 1, 1, 1, 1, 1, 1, 1, 1, 1, 1, 1, 1, 1, 1, 1, 1, 1, 1, 1, 1, 1, 1, 1, 1, 1, 1, 1, 1, 1, 1, 1, 1, 1, 1, 1, 1, 1, 1, 1, 1, 1, 1, 1, 1, 1, 1, 1, 1, 1, 1, 1, 1, 1, 1, 1, 1, 1, 1, 1, 1, 1, 1, 1, 1, 1, 1, 1, 1, 1, 1, 1, 1, 1, 1, 1, 1, 1, 1, 1, 1, 1, 1, 1, 1, 1, 1, 1, 1, 1, 1, 1, 1, 1, 1, 1, 1, 1, 1, 1, 1, 1, 1, 1, 1, 1, 1, 1, 1, 1, 1, 1, 1, 1, 1, 1, 1, 1, 1, 1, 1, 1, 1, 1, 1, 1, 1, 1, 1, 1, 4, 46, 1437, 28339, 10728, 369, 2]\n"
     ]
    }
   ],
   "source": [
    "for input_id in ds[0:2][\"input_ids\"]:\n",
    "    print(str(input_id))"
   ]
  },
  {
   "cell_type": "markdown",
   "metadata": {},
   "source": [
    "## Now perform translation on the binarized dataset"
   ]
  },
  {
   "cell_type": "code",
   "execution_count": 57,
   "metadata": {},
   "outputs": [
    {
     "name": "stdout",
     "output_type": "stream",
     "text": [
      "Loading Checkpoint  checkpoint_rank_0.pth.tar\n",
      "Starting from scratch...\n",
      "Start batch: 0\n",
      "len of data loader: 18\n",
      "run_ds: \n",
      "Dataset({\n",
      "    features: ['doc_id', 'sids', 'sub_strs', 'tlt_idx', 'placeholder_entity_map', 'translation_ids'],\n",
      "    num_rows: 0\n",
      "})\n",
      "100%|████████████████████████████| 18/18 [00:12<00:00,  1.45ba: 34 samples/ba/s]\n",
      "Saving the dataset (1/1 shards): 100%|█| 578/578 [00:00<00:00, 5185.14 examples/\n",
      "Removing temporary translated dataset checkpoint...\n"
     ]
    }
   ],
   "source": [
    "!HF_DATASETS_CACHE=/mnt/sea/tmp python /home/kd/Desktop/proj/dec/setu-translate/stages/tlt_pipelines/translate_joblib.py \\\n",
    "    --root_dir \"/mnt/sea/setu-translate\" \\\n",
    "    --data_files \"/mnt/sea/setu-translate/examples/output/wiki_en/binarized_sentences/*.arrow\" \\\n",
    "    --cache_dir \"/mnt/sea/setu-translate/examples/cache\" \\\n",
    "    --base_save_dir \"/mnt/sea/setu-translate/examples/output/wiki_en/model_out\" \\\n",
    "    --joblib_temp_folder \"/mnt/sea/setu-translate/tmp\" \\\n",
    "    --batch_size 32 \\\n",
    "    --total_procs 1 \\\n",
    "    --devices \"0\""
   ]
  },
  {
   "cell_type": "code",
   "execution_count": 58,
   "metadata": {},
   "outputs": [
    {
     "data": {
      "text/plain": [
       "Dataset({\n",
       "    features: ['doc_id', 'sid', 'sub_str', 'tlt_idx', 'placeholder_entity_map', 'translated_input_ids', 'tlt_file_loc'],\n",
       "    num_rows: 578\n",
       "})"
      ]
     },
     "execution_count": 58,
     "metadata": {},
     "output_type": "execute_result"
    }
   ],
   "source": [
    "ds = Dataset.from_file(\"/mnt/sea/setu-translate/examples/output/wiki_en/model_out/rank_0-device_cuda/data-00000-of-00001.arrow\")\n",
    "ds"
   ]
  },
  {
   "cell_type": "code",
   "execution_count": 59,
   "metadata": {},
   "outputs": [
    {
     "name": "stdout",
     "output_type": "stream",
     "text": [
      "[2, 416, 84, 18, 999, 9477, 84, 18, 38166, 4952, 45, 305, 19, 120, 775, 234, 5, 25, 503, 3807, 228, 2576, 3188, 775, 6, 2, 1, 1, 1, 1, 1, 1, 1, 1, 1, 1, 1, 1, 1, 1, 1, 1, 1, 1, 1, 1, 1, 1, 1, 1, 1, 1, 1, 1, 1, 1, 1, 1, 1, 1, 1, 1, 1, 1, 1, 1, 1, 1, 1, 1, 1, 1, 1, 1]\n",
      "[2, 624, 36740, 84, 18, 24285, 29645, 1097, 17062, 1033, 94, 19, 55, 5, 416, 84, 18, 38166, 4952, 45, 305, 19, 120, 775, 234, 5, 25, 1902, 94, 19, 55, 36016, 544, 94, 19, 55, 20065, 42403, 19781, 3539, 296, 1340, 6, 2, 1, 1, 1, 1, 1, 1, 1, 1, 1, 1, 1, 1, 1, 1, 1, 1, 1, 1, 1, 1, 1, 1, 1, 1, 1, 1, 1, 1, 1, 1]\n"
     ]
    }
   ],
   "source": [
    "for input_id in ds[0:2][\"translated_input_ids\"]:\n",
    "    print(str(input_id))"
   ]
  },
  {
   "cell_type": "markdown",
   "metadata": {},
   "source": [
    "## Now let's decode the translated inputs"
   ]
  },
  {
   "cell_type": "code",
   "execution_count": 19,
   "metadata": {},
   "outputs": [
    {
     "name": "stdout",
     "output_type": "stream",
     "text": [
      "usage: decode.py [-h] [--data_files DATA_FILES] [--format FORMAT]\n",
      "                 [--cache_dir CACHE_DIR] [--decode_dir DECODE_DIR]\n",
      "                 [--batch_size BATCH_SIZE] [--total_procs TOTAL_PROCS]\n",
      "                 [--save_strs SAVE_STRS] [--src_lang SRC_LANG]\n",
      "                 [--tgt_lang TGT_LANG]\n",
      "decode.py: error: unrecognized arguments: --root_dir /home/shanks/setu-translate\n"
     ]
    }
   ],
   "source": [
    "!HF_DATASETS_CACHE=/mnt/sea/tmp python /home/kd/Desktop/proj/dec/setu-translate/stages/decode.py \\\n",
    "    --data_files \"/mnt/sea/setu-translate/examples/output/wiki_en/model_out/*/*.arrow\" \\\n",
    "    --cache_dir \"/mnt/sea/setu-translate/examples/cache\" \\\n",
    "    --decode_dir \"/mnt/sea/setu-translate/examples/output/wiki_en/decode\" \\\n",
    "    --format arrow \\\n",
    "    --batch_size 64 \\\n",
    "    --total_procs 1 \\\n",
    "    --src_lang eng_Latn \\\n",
    "    --tgt_lang pan_Guru "
   ]
  },
  {
   "cell_type": "code",
   "execution_count": 20,
   "metadata": {},
   "outputs": [],
   "source": [
    "ds = Dataset.from_file(\"/home/shanks/setu-translate/examples/output/wiki_en/decode/data-00000-of-00001.arrow\")"
   ]
  },
  {
   "cell_type": "code",
   "execution_count": 21,
   "metadata": {},
   "outputs": [
    {
     "data": {
      "text/plain": [
       "Dataset({\n",
       "    features: ['doc_id', 'sid', 'sub_str', 'tlt_idx', 'placeholder_entity_map', 'translated_input_ids', 'tlt_file_loc', 'translated', 'written'],\n",
       "    num_rows: 612\n",
       "})"
      ]
     },
     "execution_count": 21,
     "metadata": {},
     "output_type": "execute_result"
    }
   ],
   "source": [
    "ds[0:10][\"translated\"]"
   ]
  },
  {
   "cell_type": "markdown",
   "metadata": {},
   "source": [
    "## Now replace the text with translations in the original templated dataset"
   ]
  },
  {
   "cell_type": "code",
   "execution_count": 22,
   "metadata": {},
   "outputs": [
    {
     "name": "stdout",
     "output_type": "stream",
     "text": [
      "Resolving data files: 100%|█████████████████| 64/64 [00:00<00:00, 508400.48it/s]\n",
      "Generating train split: 100 examples [00:00, 5780.78 examples/s]\n",
      "Map: 100%|████████████████████████████████| 4/4 [00:00<00:00, 280.66 examples/s]\n",
      "Saving the dataset (1/1 shards): 100%|███| 4/4 [00:00<00:00, 1216.80 examples/s]\n"
     ]
    }
   ],
   "source": [
    "!HF_DATASETS_CACHE=/mnt/sea/tmp python /home/kd/Desktop/proj/dec/setu-translate/stages/replace.py \\\n",
    "    --paths_data \"/mnt/sea/setu-translate/examples/output/wiki_en/templated/*.arrow\" \\\n",
    "    --cache_dir \"/mnt/sea/setu-translate/examples/cache\" \\\n",
    "    --batch_size 64 \\\n",
    "    --num_procs 1 \\\n",
    "    --translated_save_path \"/mnt/sea/setu-translate/examples/output/wiki_en/translated\""
   ]
  },
  {
   "cell_type": "code",
   "execution_count": 23,
   "metadata": {},
   "outputs": [],
   "source": [
    "ds = Dataset.from_file(\"/home/shanks/setu-translate/examples/output/wiki_en/translated/data-00000-of-00001.arrow\")"
   ]
  },
  {
   "cell_type": "code",
   "execution_count": 24,
   "metadata": {},
   "outputs": [
    {
     "data": {
      "text/plain": [
       "Dataset({\n",
       "    features: ['source', 'url', 'timestamp', 'doc_id', 'text', 'sub_strs', 'sids', 'tlt_folder', 'translated', 'substr_tlt'],\n",
       "    num_rows: 4\n",
       "})"
      ]
     },
     "execution_count": 24,
     "metadata": {},
     "output_type": "execute_result"
    }
   ],
   "source": [
    "ds[0:10][\"translated\"]"
   ]
  },
  {
   "cell_type": "code",
   "execution_count": 69,
   "metadata": {},
   "outputs": [
    {
     "data": {
      "text/plain": [
       "{'source': 'en_wikipedia',\n",
       " 'url': 'https://en.wikipedia.org/wiki?curid=63405427',\n",
       " 'timestamp': '24/07/23 15:06',\n",
       " 'doc_id': '7299c62f59ec33baca764b3cc9f6aa529a64ca0e784d963b48649db5500c0b96',\n",
       " 'text': '\\nboycott (album)\\n\\n\\n\\n',\n",
       " 'sub_strs': '[\"boycott (album)\"]',\n",
       " 'sids': '[\"545490bdf181f0d46f6c7bf3a1d2ee08d8266c11fd40c96d3dc6f2238387fffc\"]',\n",
       " 'tlt_folder': '/mnt/sea/setu-translate/examples/output/wiki_en/doc_csvs/923682bea6d517dc178d480c88e129e485ed902f4fa024866666658cd4ea6836/7299c62f59ec33baca764b3cc9f6aa529a64ca0e784d963b48649db5500c0b96',\n",
       " 'translated': '\\nਬਾਈਕਾਟ (ਐਲਬਮ)\\n\\n\\n\\n',\n",
       " 'substr_tlt': ['ਬਾਈਕਾਟ (ਐਲਬਮ)']}"
      ]
     },
     "execution_count": 69,
     "metadata": {},
     "output_type": "execute_result"
    }
   ],
   "source": [
    "ds[0]"
   ]
  },
  {
   "cell_type": "code",
   "execution_count": null,
   "metadata": {},
   "outputs": [],
   "source": []
  },
  {
   "cell_type": "code",
   "execution_count": null,
   "metadata": {},
   "outputs": [],
   "source": []
  },
  {
   "cell_type": "code",
   "execution_count": null,
   "metadata": {},
   "outputs": [],
   "source": [
    "!HF_DATASETS_CACHE=/mnt/sea/tmp python /home/kd/Desktop/proj/dec/setu-translate/stages/perform_templating.py \\\n",
    "    --glob_path {initial_parquet_file_path} \\\n",
    "    --cache_dir_for_original_data \"/mnt/sea/setu-translate/examples/cache\" \\\n",
    "    --base_save_path \"/mnt/sea/setu-translate/examples/output/{dir_name}/doc_csvs\" \\\n",
    "    --save_path \"/mnt/sea/setu-translate/examples/output/{dir_name}/templated\" \\\n",
    "    --text_col value \\\n",
    "    --source_type {dir_name} \\\n",
    "    --translation_type sentence \\\n",
    "    --use_cache False \\\n",
    "    --id_col doc_id \\\n",
    "    --write_style batch \\\n",
    "    --split \"train\"\n",
    "\n",
    "\n",
    "\n",
    "\n",
    "HF_DATASETS_CACHE=/mnt/sea/tmp; initial_parquet_file_path=/mnt/sea/dolma/openhermes-readability_it2.parquet; dir_name=open_hermes; python /home/kd/Desktop/proj/dec/setu-translate/stages/tlt_pipelines/translate_joblib.py --root_dir \"/mnt/sea/setu-translate\" --data_files \"/mnt/sea/setu-translate/examples/output/$dir_name/binarized_sentences/*.arrow\" --cache_dir \"/mnt/sea/setu-translate/examples/cache\" --base_save_dir \"/mnt/sea/setu-translate/examples/output/$dir_name/model_out\" --joblib_temp_folder \"/mnt/sea/setu-translate/tmp\" --total_procs 24 --batch_size 400 --devices \"0\"\n",
    "\n",
    "\n",
    "HF_DATASETS_CACHE=/mnt/sea/tmp; initial_parquet_file_path=/mnt/sea/dolma/openhermes-readability_it2.parquet; dir_name=open_hermes; python /home/kd/Desktop/proj/dec/setu-translate/stages/decode.py --data_files \"/mnt/sea/setu-translate/examples/output/$dir_name/model_out/*/*.arrow\" --cache_dir \"/mnt/sea/setu-translate/examples/cache\" --decode_dir \"/mnt/sea/setu-translate/examples/output/$dir_name/decode\" --format arrow --batch_size 256 --total_procs 24 --src_lang eng_Latn --tgt_lang pan_Guru \n",
    "\n",
    "HF_DATASETS_CACHE=/mnt/sea/tmp; initial_parquet_file_path=/mnt/sea/dolma/openhermes-readability_it2.parquet; dir_name=open_hermes; python /home/kd/Desktop/proj/dec/setu-translate/stages/replace.py \\\n",
    "    --paths_data \"/mnt/sea/setu-translate/examples/output/wiki_en/templated/*.arrow\" \\\n",
    "    --cache_dir \"/mnt/sea/setu-translate/examples/cache\" \\\n",
    "    --batch_size 128 \\\n",
    "    --num_procs 1 \\\n",
    "    --translated_save_path \"/mnt/sea/setu-translate/examples/output/wiki_en/translated\""
   ]
  },
  {
   "cell_type": "code",
   "execution_count": null,
   "metadata": {},
   "outputs": [],
   "source": []
  },
  {
   "cell_type": "code",
   "execution_count": null,
   "metadata": {},
   "outputs": [],
   "source": []
  }
 ],
 "metadata": {
  "kernelspec": {
   "display_name": "translate-env",
   "language": "python",
   "name": "python3"
  },
  "language_info": {
   "codemirror_mode": {
    "name": "ipython",
    "version": 3
   },
   "file_extension": ".py",
   "mimetype": "text/x-python",
   "name": "python",
   "nbconvert_exporter": "python",
   "pygments_lexer": "ipython3",
   "version": "3.12.0"
  }
 },
 "nbformat": 4,
 "nbformat_minor": 2
}
