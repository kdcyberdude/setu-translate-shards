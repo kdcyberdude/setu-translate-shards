{
 "cells": [
  {
   "cell_type": "code",
   "execution_count": null,
   "metadata": {},
   "outputs": [],
   "source": []
  },
  {
   "cell_type": "code",
   "execution_count": null,
   "metadata": {},
   "outputs": [],
   "source": [
    "import requests\n",
    "BASE_URL = 'http://127.0.0.1:5003'\n",
    "response = requests.post(f'{BASE_URL}/translate', json={\"data\": {'data_folder': \"hf://datasets/codingninja/fineweb-edu\",\n",
    "                            'glob_pattern': \"data/train-00000-of-00603.parquet\"}})\n",
    "if response.status_code == 200:\n",
    "    print(response.json())\n",
    "else:\n",
    "    print(f\"Failed to send request for data: \")\n"
   ]
  },
  {
   "cell_type": "code",
   "execution_count": null,
   "metadata": {},
   "outputs": [],
   "source": []
  },
  {
   "cell_type": "code",
   "execution_count": 25,
   "metadata": {},
   "outputs": [
    {
     "name": "stdout",
     "output_type": "stream",
     "text": [
      "<Response [200]> {\"hostname\": \"4baab2847864\", \"status\": \"success\", \"timestamp\": 1720120521.5449352, \"results\": [{\"checker\": \"model_loaded\", \"output\": \"model_loaded\", \"passed\": true, \"timestamp\": 1720120509.6785371, \"expires\": 1720120536.6785371}]}\n"
     ]
    }
   ],
   "source": [
    "import requests\n",
    "BASE_URL = 'http://127.0.0.1:5003'\n",
    "response = requests.get(f'{BASE_URL}/hc')\n",
    "print(response, response.text)\n"
   ]
  },
  {
   "cell_type": "code",
   "execution_count": null,
   "metadata": {},
   "outputs": [],
   "source": []
  },
  {
   "cell_type": "code",
   "execution_count": null,
   "metadata": {},
   "outputs": [],
   "source": []
  },
  {
   "cell_type": "code",
   "execution_count": 18,
   "metadata": {},
   "outputs": [
    {
     "name": "stdout",
     "output_type": "stream",
     "text": [
      "Request generated an exception: ('Connection aborted.', RemoteDisconnected('Remote end closed connection without response'))\n",
      "Request generated an exception: ('Connection aborted.', RemoteDisconnected('Remote end closed connection without response'))\n",
      "Request generated an exception: ('Connection aborted.', RemoteDisconnected('Remote end closed connection without response'))\n",
      "Request generated an exception: ('Connection aborted.', RemoteDisconnected('Remote end closed connection without response'))\n",
      "Request generated an exception: ('Connection aborted.', RemoteDisconnected('Remote end closed connection without response'))\n",
      "Request generated an exception: ('Connection aborted.', RemoteDisconnected('Remote end closed connection without response'))\n",
      "Request generated an exception: ('Connection aborted.', RemoteDisconnected('Remote end closed connection without response'))\n",
      "Request generated an exception: ('Connection aborted.', RemoteDisconnected('Remote end closed connection without response'))\n",
      "Request generated an exception: ('Connection aborted.', RemoteDisconnected('Remote end closed connection without response'))\n",
      "Request generated an exception: ('Connection aborted.', RemoteDisconnected('Remote end closed connection without response'))\n"
     ]
    }
   ],
   "source": [
    "import requests\n",
    "import concurrent.futures\n",
    "\n",
    "BASE_URL = 'http://127.0.0.1:5000'\n",
    "\n",
    "def translate(url, data):\n",
    "    response = requests.post(url, json=data)\n",
    "    print(f\"Request sent to {url} with status code {response.status_code}\")\n",
    "    return response.json()\n",
    "\n",
    "def main():\n",
    "    data = {\"data\": {'data_folder': \"hf://datasets/HuggingFaceFW/fineweb-edu\",\n",
    "                     'glob_pattern': \"data/CC-MAIN-2023-50/train-00000-of-00030.parquet\"}}\n",
    "    url = f'{BASE_URL}/translate'\n",
    "    \n",
    "    with concurrent.futures.ThreadPoolExecutor(max_workers=10) as executor:\n",
    "        futures = [executor.submit(translate, url, data) for _ in range(10)]\n",
    "        for future in concurrent.futures.as_completed(futures):\n",
    "            try:\n",
    "                result = future.result()\n",
    "                print(result)\n",
    "            except Exception as e:\n",
    "                print(f\"Request generated an exception: {e}\")\n",
    "\n",
    "if __name__ == \"__main__\":\n",
    "    main()\n"
   ]
  },
  {
   "cell_type": "code",
   "execution_count": null,
   "metadata": {},
   "outputs": [],
   "source": []
  },
  {
   "cell_type": "code",
   "execution_count": null,
   "metadata": {},
   "outputs": [],
   "source": []
  },
  {
   "cell_type": "code",
   "execution_count": null,
   "metadata": {},
   "outputs": [],
   "source": []
  },
  {
   "cell_type": "code",
   "execution_count": null,
   "metadata": {},
   "outputs": [],
   "source": []
  },
  {
   "cell_type": "code",
   "execution_count": 20,
   "metadata": {},
   "outputs": [
    {
     "name": "stderr",
     "output_type": "stream",
     "text": [
      "/home/kd/anaconda3/envs/ai4bharat/lib/python3.12/site-packages/pyarrow/__init__.py:279: RuntimeWarning: coroutine 'main' was never awaited\n",
      "  from pyarrow.ipc import serialize_pandas, deserialize_pandas\n",
      "RuntimeWarning: Enable tracemalloc to get the object allocation traceback\n"
     ]
    },
    {
     "data": {
      "application/vnd.jupyter.widget-view+json": {
       "model_id": "7127558111ae474aab793df92220d75b",
       "version_major": 2,
       "version_minor": 0
      },
      "text/plain": [
       "Generating train split: 0 examples [00:00, ? examples/s]"
      ]
     },
     "metadata": {},
     "output_type": "display_data"
    },
    {
     "data": {
      "text/plain": [
       "DatasetDict({\n",
       "    train: Dataset({\n",
       "        features: ['id', 'eng', 'pan'],\n",
       "        num_rows: 102\n",
       "    })\n",
       "})"
      ]
     },
     "execution_count": 20,
     "metadata": {},
     "output_type": "execute_result"
    }
   ],
   "source": [
    "from datasets import load_dataset\n",
    "ds = load_dataset('parquet', data_files='processed_shard_00000.parquet')\n",
    "ds"
   ]
  },
  {
   "cell_type": "code",
   "execution_count": 21,
   "metadata": {},
   "outputs": [
    {
     "data": {
      "text/plain": [
       "{'id': '6715b7175b607ce98210bbaaad7941183ff8a8a123ed36e23ecad0bb482db8f6',\n",
       " 'eng': ['celestial mechanics the branch of astronomy that studies the motions of all types of astronomical objects, including stars, planets, and natural an.',\n",
       "  '.',\n",
       "  \"due to earth's axial tilt, the celestial equator is currently inclined at an angle of 23.44 degrees with respect to the ecliptic.\",\n",
       "  'an american epic space opera franchise centered on a film series created by george lucas.',\n",
       "  'star wars, proper noun.',\n",
       "  'a composition of combustible matter used in the heading of rockets, in mines, etc.',\n",
       "  ', which, exploding in the air, presents a starlike appearance.',\n",
       "  'star, verb.',\n",
       "  'someone who is dazzlingly skilled in any field.',\n",
       "  'star, noun.',\n",
       "  'plural of star drive alternative form of stardrivesstar finch, noun.',\n",
       "  \"(science fiction) a hypothetical process wherein a portion of a star's mass is removed, generally to serve as an energy source.\",\n",
       "  'star macromolecule, noun.',\n",
       "  'an extraterrestrial person from a different star system than ours.',\n",
       "  'hypoxis spp.',\n",
       "  ', flowering plants belonging to the family hypoxidaceae.',\n",
       "  'star height, noun.',\n",
       "  'satellite, scientific, scientist, seismometer, sensation, session, sextant, shooting star, shuttle, significant, simulation, sir issac, size, sky, soar, solar system, solstice, space, space craft, space station, spatial, spectrometry, spectrum, spherical, spinning, star dust, stars, stellar, storms, stratosphere, subatomic, success, sun, sunspot, super nova, support, sustain, swirling, syzygy depending on context the sun may or may not be included.',\n",
       "  'most of the constellations we know have been given names, for example orion the hunter and the great bear.',\n",
       "  '(geometry) a concave polygon with regular, pointy protrusions and indentations, generally with five or six points.',\n",
       "  '(astrology) synonym of the astrological sign.',\n",
       "  'star stream, noun.',\n",
       "  'valued for .',\n",
       "  'the topology of a network whose components are connected to a hub.',\n",
       "  \"(astronomy) (photography) the line of light recorded on a photographic medium when a time exposure is made of a star in the nighttime sky using a camera on a fixed mount, caused by the rotation of the earth during the period of time when the camera's shutter is held open.\",\n",
       "  'star trek, proper noun.',\n",
       "  'aletris spp.',\n",
       "  ', flowering plants in the nartheciaceae family.',\n",
       "  'star grass, noun.',\n",
       "  'sicyos angulatus, an annual vine in the cucumber family, native to eastern north america.',\n",
       "  'star drives, noun.',\n",
       "  'delivered to your inbox!',\n",
       "  '(new age) a person believed to have a reincarnated soul of an extraterrestrial or extradimensional beingstar shell, noun.',\n",
       "  'inferior.',\n",
       "  'star, proper noun.',\n",
       "  'in the mind of another.',\n",
       "  '© 2006-2020 «word associations network».',\n",
       "  'a hamlet in wales.',\n",
       "  'any small luminous dot appearing in the cloudless portion of the night sky, especially with a fixed location relative to other such dots.',\n",
       "  'indicating the most important performer or role; \"the leading man\"; \"prima ballerina\"; \"prima donna\"; \"a star figure skater\"; \"the starring role\"; \"a stellar role\"; \"a stellar performance\".',\n",
       "  'think twice before you speak, because your words and a physical network topology in which all nodes are connected to a central connectivity device (e.',\n",
       "  'g.',\n",
       "  '(architecture) a vault whose ribs radiate to form patterns reminiscent of starsstar visitor, noun.',\n",
       "  'an australian species of estrildid finch, neochmia ruficauda.',\n",
       "  'star fort, noun.',\n",
       "  'this glossary of astronomy terms contains definitions for some of the most common words used in astronomy, cosmology, astrophysics, and space exploration.',\n",
       "  \"celestial equator the imaginary great circle of a body's celestial sphere that is coplanar with the body's terrestrial equator.\",\n",
       "  'valued for its decorative shape as well as its flavor.',\n",
       "  'mark with an asterisk; \"linguists star unacceptable sentences\".',\n",
       "  'star, adjective.',\n",
       "  '(chemistry) a macromolecule having a single branch point from which linear chains (or arms) emanate.',\n",
       "  'star macromolecules, noun.',\n",
       "  '(pejorative) a legal or administrative body with strict, arbitrary rulings and secretive proceedingsstar chart, noun.',\n",
       "  'a simple dance, or part of a dance, where a group of four dancers each put their right or left hand in the middle and turn around in a circle.',\n",
       "  'auxiliary.',\n",
       "  '(computing theory) a measure of the structural complexity of a regular expression, equal to the maximum nesting depth of stars in the expression.',\n",
       "  'star jelly, noun.',\n",
       "  'also used commercially as a source of shikimic acid for the production of tamiflu.',\n",
       "  'star apple, noun.',\n",
       "  'to appear as a featured performer or headliner, especially in an entertainment program.',\n",
       "  '(astronomy) a line of stars, originally from a dwarf galaxy, that have been captured by gravitational interaction with the milky waystar system, noun.',\n",
       "  \"(roller derby) the transfer of jammer status to a team's pivot, accomplished by passing a helmet cover marked with a star.\",\n",
       "  'star picket, noun.',\n",
       "  'callitriche spp.',\n",
       "  ', flowering plants in the plantaginaceae family.',\n",
       "  'a village in scotland.',\n",
       "  'a star-shaped ornament worn on the breast to indicate rank or honour.',\n",
       "  'the norfolk island pine, araucaria heterophyllastar polygon, noun.',\n",
       "  'futuristic, particularly with respect to things similar in appearance or effect to technology in the star trek franchise.',\n",
       "  'star trekkish, adjective.',\n",
       "  'the amateur astronomy hobby contains words, labels, and technical terms that may seem be a little confusing for both beginners and the more experienced hobbyists.',\n",
       "  'antonyms for star.',\n",
       "  'alternative spelling of star-crossedstar cucumber, noun.',\n",
       "  '(film) a method of creating, promoting and exploiting movie stars in cinema, emphasizing on their images rather than acting.',\n",
       "  'star topology, noun.',\n",
       "  '(military) a type of ammunition shell which bursts to release a shower of stars for illuminating enemy positions etc.',\n",
       "  'star sign, noun.',\n",
       "  'on earth, the plane of the celestial equator is the basis of the equatorial coordinate system.'],\n",
       " 'pan': ['ਖਗੋਲ ਵਿਗਿਆਨ ਦੀ ਸ਼ਾਖਾ ਖਗੋਲ ਵਿਗਿਆਨ ਦੀ ਇੱਕ ਸ਼ਾਖਾ ਹੈ ਜੋ ਤਾਰਿਆਂ, ਗ੍ਰਹਿਆਂ ਅਤੇ ਕੁਦਰਤੀ ਖਗੋਲ ਵਿਗਿਆਨ ਸਮੇਤ ਹਰ ਕਿਸਮ ਦੀਆਂ ਖਗੋਲ ਵਿਗਿਆਨ ਦੀਆਂ ਵਸਤੂਆਂ ਦੀਆਂ ਗਤੀਆਂ ਦਾ ਅਧਿਐਨ ਕਰਦੀ ਹੈ।',\n",
       "  '.',\n",
       "  'ਧਰਤੀ ਦੇ ਧੁਰੇ ਦੇ ਝੁਕਾਅ ਦੇ ਕਾਰਨ, ਆਕਾਸ਼ ਦੀ ਭੂਮੱਧ ਰੇਖਾ ਵਰਤਮਾਨ ਵਿੱਚ ਚੰਦਰਮਾ ਦੇ ਸਬੰਧ ਵਿੱਚ <ID1> ਡਿਗਰੀ ਦੇ ਕੋਣ ਉੱਤੇ ਝੁਕਿਆ ਹੋਇਆ ਹੈ।',\n",
       "  'ਇੱਕ ਅਮਰੀਕੀ ਮਹਾਂਕਾਵਿ ਸਪੇਸ ਓਪੇਰਾ ਫਰੈਂਚਾਇਜ਼ੀ ਜਾਰਜ ਲੁਕਾਸ ਦੁਆਰਾ ਬਣਾਈ ਗਈ ਇੱਕ ਫਿਲਮ ਲਡ਼ੀ ਉੱਤੇ ਕੇਂਦਰਿਤ ਹੈ।',\n",
       "  'ਸਟਾਰ ਵਾਰਜ਼, ਸਹੀ ਨਾਮ।',\n",
       "  'ਰਾਕੇਟਾਂ ਦੇ ਸਿਰਲੇਖ, ਖਾਣਾਂ ਆਦਿ ਵਿੱਚ ਵਰਤੇ ਜਾਣ ਵਾਲੇ ਜਲਣਸ਼ੀਲ ਪਦਾਰਥ ਦੀ ਇੱਕ ਰਚਨਾ।',\n",
       "  ', ਜੋ ਕਿ ਹਵਾ ਵਿੱਚ ਫਟਦਾ ਹੋਇਆ, ਇੱਕ ਤਾਰਾ ਵਰਗੀ ਦਿੱਖ ਪੇਸ਼ ਕਰਦਾ ਹੈ।',\n",
       "  'ਤਾਰਾ, ਕ੍ਰਿਆ।',\n",
       "  'ਕੋਈ ਅਜਿਹਾ ਵਿਅਕਤੀ ਜੋ ਕਿਸੇ ਵੀ ਖੇਤਰ ਵਿੱਚ ਸ਼ਾਨਦਾਰ ਤੌਰ ਉੱਤੇ ਕੁਸ਼ਲ ਹੈ।',\n",
       "  'ਤਾਰਾ, ਨਾਮ.',\n",
       "  'ਸਟਾਰਡਰਾਈਵਸਟਾਰ ਫਿੰਚ, ਨਾਮ ਦਾ ਸਟਾਰ ਡਰਾਈਵ ਦਾ ਬਹੁਵਚਨ ਵਿਕਲਪਿਕ ਰੂਪ।',\n",
       "  '(ਵਿਗਿਆਨ ਗਲਪ) ਇੱਕ ਕਾਲਪਨਿਕ ਪ੍ਰਕਿਰਿਆ ਜਿਸ ਵਿੱਚ ਇੱਕ ਤਾਰੇ ਦੇ ਪੁੰਜ ਦੇ ਇੱਕ ਹਿੱਸੇ ਨੂੰ ਹਟਾ ਦਿੱਤਾ ਜਾਂਦਾ ਹੈ, ਆਮ ਤੌਰ ਉੱਤੇ ਇੱਕ ਊਰਜਾ ਸਰੋਤ ਵਜੋਂ ਕੰਮ ਕਰਨ ਲਈ।',\n",
       "  'ਤਾਰਾ ਮੈਕਰੋਮੋਲਿਕੂਲ, ਨਾਮ.',\n",
       "  'ਸਾਡੇ ਨਾਲੋਂ ਵੱਖਰੇ ਤਾਰਾ ਪ੍ਰਣਾਲੀ ਤੋਂ ਇੱਕ ਅਲੌਕਿਕ ਵਿਅਕਤੀ।',\n",
       "  'ਹਾਈਪੋਕਸਿਸ ਐੱਸ. ਪੀ. ਪੀ.',\n",
       "  ', ਹਾਈਪੋਕਸਾਈਡੇਸੀ ਪਰਿਵਾਰ ਨਾਲ ਸਬੰਧਤ ਫੁੱਲਾਂ ਦੇ ਪੌਦੇ।',\n",
       "  'ਤਾਰਾ ਉਚਾਈ, ਨਾਮ.',\n",
       "  'ਉਪਗ੍ਰਹਿ, ਵਿਗਿਆਨਕ, ਵਿਗਿਆਨੀ, ਭੁਚਾਲ ਮਾਪਕ, ਸਨਸਨੀ, ਸੈਸ਼ਨ, ਸੈਕਸਟੈਂਟ, ਸ਼ੂਟਿੰਗ ਸਟਾਰ, ਸ਼ਟਲ, ਮਹੱਤਵਪੂਰਨ, ਸਿਮੂਲੇਸ਼ਨ, ਸਰ ਆਈਜ਼ੈਕ, ਅਕਾਰ, ਅਸਮਾਨ, ਉੱਡ, ਸੂਰਜੀ ਮੰਡਲ, ਸੰਕਲਪ, ਪੁਲਾਡ਼, ਪੁਲਾਡ਼ ਕਰਾਫਟ, ਪੁਲਾਡ਼ ਸਟੇਸ਼ਨ, ਸਥਾਨਿਕ, ਸਪੈਕਟ੍ਰੋਮੈਟਰੀ, ਸਪੈਕਟ੍ਰਮ, ਗੋਲਾਕਾਰ, ਸਪਿਨਿੰਗ, ਸਟਾਰ ਧੂਡ਼, ਤਾਰੇ, ਤਾਰਾ, ਤੂਫਾਨ, ਸਟ੍ਰੈਟੋਸਫੀਅਰ, ਉਪ-ਪ੍ਰਮਾਣੂ, ਸਫਲਤਾ, ਸੂਰਜ, ਸੂਰਜ ਦਾ ਨਿਸ਼ਾਨ, ਸੁਪਰ ਨੋਵਾ, ਸਮਰਥਨ, ਕਾਇਮ ਰੱਖਣਾ, ਘੁੰਮਣਾ, ਸੂਰਜ ਦੇ ਪ੍ਰਸੰਗ ਦੇ ਅਧਾਰ ਤੇ ਸਿਜ਼ੀਜੀ ਸ਼ਾਮਲ ਕੀਤਾ ਜਾ ਸਕਦਾ ਹੈ ਜਾਂ ਨਹੀਂ ਵੀ ਹੋ ਸਕਦਾ।',\n",
       "  'ਜ਼ਿਆਦਾਤਰ ਤਾਰਾ-ਮੰਡਲ ਜਿਨ੍ਹਾਂ ਨੂੰ ਅਸੀਂ ਜਾਣਦੇ ਹਾਂ, ਉਹਨਾਂ ਨੂੰ ਨਾਮ ਦਿੱਤੇ ਗਏ ਹਨ, ਉਦਾਹਰਣ ਵਜੋਂ ਓਰੀਅਨ ਸ਼ਿਕਾਰੀ ਅਤੇ ਮਹਾਨ ਰਿੱਛ।',\n",
       "  '(ਜਿਓਮੈਟਰੀ) ਇੱਕ ਅਵਤਲ ਬਹੁਭੁਜ ਜਿਸ ਵਿੱਚ ਨਿਯਮਤ, ਨੁਕੀਲੇ ਪ੍ਰੋਟਰੂਜ਼ਨ ਅਤੇ ਇੰਡੈਂਟੇਸ਼ਨ ਹੁੰਦੇ ਹਨ, ਆਮ ਤੌਰ ਉੱਤੇ ਪੰਜ ਜਾਂ ਛੇ ਬਿੰਦੂ ਹੁੰਦੇ ਹਨ।',\n",
       "  '(ਜੋਤਿਸ਼) ਜੋਤਿਸ਼ ਚਿੰਨ੍ਹ ਦਾ ਸਮਾਨਾਰਥੀ।',\n",
       "  'ਸਟਾਰ ਸਟ੍ਰੀਮ, ਨਾਮ.',\n",
       "  'ਲਈ ਕੀਮਤੀ.',\n",
       "  'ਇੱਕ ਨੈੱਟਵਰਕ ਦੀ ਟੌਪੌਲੌਜੀ ਜਿਸ ਦੇ ਹਿੱਸੇ ਇੱਕ ਹੱਬ ਨਾਲ ਜੁਡ਼ੇ ਹੋਏ ਹਨ।',\n",
       "  '(ਖਗੋਲ ਵਿਗਿਆਨ) (ਫੋਟੋਗ੍ਰਾਫੀ) ਇੱਕ ਫੋਟੋਗ੍ਰਾਫਿਕ ਮਾਧਿਅਮ ਉੱਤੇ ਰਿਕਾਰਡ ਕੀਤੀ ਗਈ ਪ੍ਰਕਾਸ਼ ਦੀ ਰੇਖਾ ਜਦੋਂ ਇੱਕ ਨਿਸ਼ਚਿਤ ਮਾਊਂਟ ਉੱਤੇ ਇੱਕ ਕੈਮਰੇ ਦੀ ਵਰਤੋਂ ਕਰਕੇ ਰਾਤ ਦੇ ਸਮੇਂ ਅਸਮਾਨ ਵਿੱਚ ਇੱਕ ਤਾਰੇ ਦਾ ਸਮਾਂ ਸੰਪਰਕ ਬਣਾਇਆ ਜਾਂਦਾ ਹੈ, ਜੋ ਉਸ ਸਮੇਂ ਦੌਰਾਨ ਧਰਤੀ ਦੇ ਘੁੰਮਣ ਕਾਰਨ ਹੁੰਦਾ ਹੈ ਜਦੋਂ ਕੈਮਰੇ ਦਾ ਸ਼ਟਰ ਖੁੱਲ੍ਹਾ ਹੁੰਦਾ ਹੈ।',\n",
       "  'ਸਟਾਰ ਟ੍ਰੇਕ, ਸਹੀ ਨਾਮ।',\n",
       "  'ਐਲੈਟਰਿਸ ਐੱਸ. ਪੀ. ਪੀ.',\n",
       "  'ਨਾਰਥੇਸੀਸੀ ਪਰਿਵਾਰ ਵਿੱਚ ਫੁੱਲਾਂ ਦੇ ਪੌਦੇ।',\n",
       "  'ਸਟਾਰ ਘਾਹ, ਨਾਮ.',\n",
       "  'ਸਿਸਿਓਸ ਐਂਗੁਲਾਟਸ, ਖੀਰੇ ਦੇ ਪਰਿਵਾਰ ਵਿੱਚ ਇੱਕ ਸਲਾਨਾ ਵੇਲ, ਪੂਰਬੀ ਉੱਤਰੀ ਅਮਰੀਕਾ ਦਾ ਮੂਲ ਨਿਵਾਸੀ ਹੈ।',\n",
       "  'ਸਟਾਰ ਡਰਾਈਵ, ਨਾਮ.',\n",
       "  'ਆਪਣੇ ਇਨਬਾਕਸ ਵਿੱਚ ਪਹੁੰਚਾਓ!',\n",
       "  '(ਨਵਾਂ ਯੁੱਗ) ਇੱਕ ਵਿਅਕਤੀ ਜਿਸ ਨੂੰ ਮੰਨਿਆ ਜਾਂਦਾ ਹੈ ਕਿ ਇੱਕ ਅਲੌਕਿਕ ਜਾਂ ਹਵਾਲਗੀ ਆਯਾਮੀ ਤਾਰਾ ਸ਼ੈੱਲ, ਨਾਮ ਦੀ ਪੁਨਰ ਜਨਮ ਆਤਮਾ ਹੈ।',\n",
       "  'ਘੱਟ.',\n",
       "  'ਤਾਰਾ, ਸਹੀ ਨਾਮ।',\n",
       "  'ਕਿਸੇ ਹੋਰ ਦੇ ਮਨ ਵਿੱਚ।',\n",
       "  '̃ <ID1> \"ਵਰਡ ਐਸੋਸੀਏਸ਼ਨ ਨੈੱਟਵਰਕ\"।',\n",
       "  'ਵੇਲਜ਼ ਵਿੱਚ ਇੱਕ ਪਿੰਡ।',\n",
       "  'ਰਾਤ ਦੇ ਅਸਮਾਨ ਦੇ ਬੱਦਲ ਰਹਿਤ ਹਿੱਸੇ ਵਿੱਚ ਦਿਖਾਈ ਦੇਣ ਵਾਲਾ ਕੋਈ ਵੀ ਛੋਟਾ ਚਮਕਦਾਰ ਬਿੰਦੂ, ਖਾਸ ਕਰਕੇ ਅਜਿਹੇ ਹੋਰ ਬਿੰਦੂਆਂ ਦੇ ਸਬੰਧ ਵਿੱਚ ਇੱਕ ਨਿਸ਼ਚਿਤ ਸਥਾਨ ਦੇ ਨਾਲ।',\n",
       "  'ਸਭ ਤੋਂ ਮਹੱਤਵਪੂਰਨ ਕਲਾਕਾਰ ਜਾਂ ਭੂਮਿਕਾ ਨੂੰ ਦਰਸਾਉਂਦਾ ਹੈ; \"ਪ੍ਰਮੁੱਖ ਆਦਮੀ\"; \"ਪ੍ਰਾਈਮਾ ਬੈਲਰੀਨਾ\"; \"ਪ੍ਰਾਈਮਾ ਡੋਨਾ\"; \"ਇੱਕ ਸਟਾਰ ਫਿਗਰ ਸਕੇਟਰ\"; \"ਸਟਾਰ ਭੂਮਿਕਾ\"; \"ਇੱਕ ਸ਼ਾਨਦਾਰ ਭੂਮਿਕਾ\"; \"ਇੱਕ ਸ਼ਾਨਦਾਰ ਪ੍ਰਦਰਸ਼ਨ\"।',\n",
       "  'ਬੋਲਣ ਤੋਂ ਪਹਿਲਾਂ ਦੋ ਵਾਰ ਸੋਚੋ, ਕਿਉਂਕਿ ਤੁਹਾਡੇ ਸ਼ਬਦ ਅਤੇ ਇੱਕ ਭੌਤਿਕ ਨੈੱਟਵਰਕ ਟੌਪੌਲੌਜੀ ਜਿਸ ਵਿੱਚ ਸਾਰੇ ਨੋਡ ਇੱਕ ਕੇਂਦਰੀ ਕਨੈਕਟੀਵਿਟੀ ਉਪਕਰਣ ਨਾਲ ਜੁਡ਼ੇ ਹੋਏ ਹਨ (ਜਿਵੇਂ ਕਿ.',\n",
       "  'ਜੀ.',\n",
       "  '(ਆਰਕੀਟੈਕਚਰ) ਇੱਕ ਵਾਲਟ ਜਿਸ ਦੀਆਂ ਪੱਸਲੀਆਂ ਸਟਾਰਸਟਾਰ ਵਿਜ਼ਟਰ, ਨਾਮ ਦੀ ਯਾਦ ਦਿਵਾਉਂਦੇ ਹੋਏ ਪੈਟਰਨ ਬਣਾਉਣ ਲਈ ਵਿਕਿਰਿਤ ਹੁੰਦੀਆਂ ਹਨ।',\n",
       "  'ਐਸਟ੍ਰਿਲਡਿਡ ਫਿੰਚ ਦੀ ਇੱਕ ਆਸਟਰੇਲੀਆਈ ਪ੍ਰਜਾਤੀ, ਨਿਓਕਮੀਆ ਰੂਫਿਕਾਡਾ।',\n",
       "  'ਸਟਾਰ ਫੋਰਟ, ਨਾਮ.',\n",
       "  'ਖਗੋਲ ਵਿਗਿਆਨ ਦੇ ਸ਼ਬਦਾਂ ਦੀ ਇਸ ਗਲਾਸਰੀ ਵਿੱਚ ਖਗੋਲ ਵਿਗਿਆਨ, ਬ੍ਰਹਿਮੰਡ ਵਿਗਿਆਨ, ਖਗੋਲ ਭੌਤਿਕੀ ਅਤੇ ਪੁਲਾਡ਼ ਖੋਜ ਵਿੱਚ ਵਰਤੇ ਜਾਣ ਵਾਲੇ ਕੁਝ ਸਭ ਤੋਂ ਆਮ ਸ਼ਬਦਾਂ ਦੀਆਂ ਪਰਿਭਾਸ਼ਾਵਾਂ ਸ਼ਾਮਲ ਹਨ।',\n",
       "  'ਆਕਾਸ਼ ਭੂਮੱਧ ਰੇਖਾ ਕਿਸੇ ਸਰੀਰ ਦੇ ਆਕਾਸ਼ ਖੇਤਰ ਦਾ ਕਾਲਪਨਿਕ ਮਹਾਨ ਚੱਕਰ ਹੈ ਜੋ ਸਰੀਰ ਦੇ ਧਰਤੀ ਦੇ ਭੂਮੱਧ ਰੇਖਾ ਦੇ ਨਾਲ ਸਹਿ-ਪਲੈਨਰ ਹੈ।',\n",
       "  'ਇਸ ਦੀ ਸਜਾਵਟੀ ਸ਼ਕਲ ਦੇ ਨਾਲ-ਨਾਲ ਇਸ ਦੇ ਸੁਆਦ ਲਈ ਵੀ ਮਹੱਤਵਪੂਰਣ ਹੈ।',\n",
       "  'ਇੱਕ ਤਾਰਾ ਚਿੰਨ੍ਹ ਨਾਲ ਨਿਸ਼ਾਨਬੱਧ ਕਰੋ; \"ਭਾਸ਼ਾ ਵਿਗਿਆਨੀ ਅਸਵੀਕਾਰਨਯੋਗ ਵਾਕਾਂ ਨੂੰ ਸਟਾਰ ਕਰਦੇ ਹਨ।\"',\n",
       "  'ਤਾਰਾ, ਵਿਸ਼ੇਸ਼ਣ।',\n",
       "  '(ਰਸਾਇਣ ਵਿਗਿਆਨ) ਇੱਕ ਮੈਕਰੋਮੌਲੀਕਿਊਲ ਜਿਸ ਦਾ ਇੱਕ ਸਿੰਗਲ ਸ਼ਾਖਾ ਬਿੰਦੂ ਹੁੰਦਾ ਹੈ ਜਿਸ ਤੋਂ ਰੇਖਿਕ ਚੇਨ (ਜਾਂ ਬਾਹਾਂ) ਨਿਕਲਦੀਆਂ ਹਨ।',\n",
       "  'ਤਾਰਾ ਮੈਕਰੋਮੋਲਿਕੂਲ, ਨਾਮ.',\n",
       "  '(ਅਪਮਾਨਜਨਕ) ਇੱਕ ਕਾਨੂੰਨੀ ਜਾਂ ਪ੍ਰਸ਼ਾਸਕੀ ਸੰਸਥਾ ਜਿਸ ਵਿੱਚ ਸਖਤ, ਮਨਮਰਜ਼ੀ ਵਾਲੇ ਫੈਸਲੇ ਅਤੇ ਗੁਪਤ ਕਾਰਵਾਈਆਂ ਸਟਾਰ ਚਾਰਟ, ਨਾਮ ਹੈ।',\n",
       "  'ਇੱਕ ਸਧਾਰਨ ਨਾਚ, ਜਾਂ ਇੱਕ ਨਾਚ ਦਾ ਹਿੱਸਾ, ਜਿੱਥੇ ਚਾਰ ਨ੍ਰਿਤਕਾਂ ਦਾ ਇੱਕ ਸਮੂਹ ਆਪਣਾ ਸੱਜਾ ਜਾਂ ਖੱਬਾ ਹੱਥ ਵਿਚਕਾਰ ਰੱਖਦਾ ਹੈ ਅਤੇ ਇੱਕ ਚੱਕਰ ਵਿੱਚ ਘੁੰਮਦਾ ਹੈ।',\n",
       "  'ਸਹਾਇਕ.',\n",
       "  '(ਕੰਪਿਊਟਿੰਗ ਥਿਊਰੀ) ਇੱਕ ਨਿਯਮਤ ਸਮੀਕਰਨ ਦੀ ਢਾਂਚਾਗਤ ਗੁੰਝਲਤਾ ਦਾ ਇੱਕ ਮਾਪ, ਸਮੀਕਰਨ ਵਿੱਚ ਤਾਰਿਆਂ ਦੀ ਵੱਧ ਤੋਂ ਵੱਧ ਆਲ੍ਹਣਾ ਬਣਾਉਣ ਦੀ ਡੂੰਘਾਈ ਦੇ ਬਰਾਬਰ।',\n",
       "  'ਸਟਾਰ ਜੈਲੀ, ਨਾਮ.',\n",
       "  \"ਟੈਮੀਫਲੂ ਦੇ ਉਤਪਾਦਨ ਲਈ ਸ਼ਿਕੀਮਿਕ ਏਸਿਡ ਦੇ ਸਰੋਤ ਵਜੋਂ ਵਪਾਰਕ ਤੌਰ 'ਤੇ ਵੀ ਵਰਤਿਆ ਜਾਂਦਾ ਹੈ।\",\n",
       "  'ਸਟਾਰ ਐਪਲ, ਨਾਮ.',\n",
       "  'ਇੱਕ ਵਿਸ਼ੇਸ਼ ਕਲਾਕਾਰ ਜਾਂ ਹੈੱਡਲਾਈਨਰ ਦੇ ਰੂਪ ਵਿੱਚ, ਖਾਸ ਕਰਕੇ ਇੱਕ ਮਨੋਰੰਜਨ ਪ੍ਰੋਗਰਾਮ ਵਿੱਚ ਦਿਖਾਈ ਦੇਣਾ।',\n",
       "  '(ਖਗੋਲ ਵਿਗਿਆਨ) ਤਾਰਿਆਂ ਦੀ ਇੱਕ ਰੇਖਾ, ਮੂਲ ਰੂਪ ਵਿੱਚ ਇੱਕ ਬੌਨੀ ਗਲੈਕਸੀ ਤੋਂ, ਜੋ ਦੁੱਧ ਦੇ ਤਾਰਾ ਪ੍ਰਣਾਲੀ, ਨਾਮ ਨਾਲ ਗਰੈਵੀਟੇਸ਼ਨਲ ਪਰਸਪਰ ਕ੍ਰਿਆ ਦੁਆਰਾ ਕੈਪਚਰ ਕੀਤੀ ਗਈ ਹੈ।',\n",
       "  '(ਰੋਲਰ ਡਰਬੀ) ਜੈਮਰ ਸਥਿਤੀ ਨੂੰ ਟੀਮ ਦੇ ਧੁਰੀ ਵਿੱਚ ਤਬਦੀਲ ਕਰਨਾ, ਇੱਕ ਸਟਾਰ ਨਾਲ ਚਿੰਨ੍ਹਿਤ ਹੈਲਮਟ ਕਵਰ ਨੂੰ ਪਾਸ ਕਰਕੇ ਪੂਰਾ ਕੀਤਾ ਜਾਂਦਾ ਹੈ।',\n",
       "  'ਸਟਾਰ ਪਿਕੇਟ, ਨਾਮ.',\n",
       "  'ਕੈਲੀਟਰੀਚ ਐੱਸ. ਪੀ. ਪੀ.',\n",
       "  ', ਪਲਾਂਟੇਜਿਨੇਸੀ ਪਰਿਵਾਰ ਵਿੱਚ ਫੁੱਲਾਂ ਦੇ ਪੌਦੇ।',\n",
       "  'ਸਕਾਟਲੈਂਡ ਦਾ ਇੱਕ ਪਿੰਡ।',\n",
       "  'ਇੱਕ ਤਾਰਾ-ਆਕਾਰ ਦਾ ਗਹਿਣਾ ਜੋ ਛਾਤੀ ਉੱਤੇ ਦਰਜਾ ਜਾਂ ਸਨਮਾਨ ਨੂੰ ਦਰਸਾਉਣ ਲਈ ਪਹਿਨਿਆ ਜਾਂਦਾ ਹੈ।',\n",
       "  'ਨੋਰਫੋਕ ਟਾਪੂ ਪਾਈਨ, ਅਰੌਕਰੀਆ ਹੈਟਰੋਫਿਲਾਸਟਰ ਪੌਲੀਗਨ, ਨਾਮ.',\n",
       "  \"ਭਵਿੱਖਵਾਦੀ, ਖਾਸ ਤੌਰ 'ਤੇ ਸਟਾਰ ਟ੍ਰੇਕ ਫਰੈਂਚਾਇਜ਼ੀ ਵਿੱਚ ਦਿੱਖ ਜਾਂ ਪ੍ਰਭਾਵ ਵਿੱਚ ਤਕਨਾਲੋਜੀ ਦੇ ਸਮਾਨ ਚੀਜ਼ਾਂ ਦੇ ਸੰਬੰਧ ਵਿੱਚ।\",\n",
       "  'ਸਟਾਰ ਟ੍ਰੈਕਿਸ਼, ਵਿਸ਼ੇਸ਼ਣ।',\n",
       "  'ਸ਼ੁਕੀਨ ਖਗੋਲ ਵਿਗਿਆਨ ਦੇ ਸ਼ੌਕ ਵਿੱਚ ਸ਼ਬਦ, ਲੇਬਲ ਅਤੇ ਤਕਨੀਕੀ ਸ਼ਬਦ ਸ਼ਾਮਲ ਹਨ ਜੋ ਸ਼ੁਰੂਆਤ ਕਰਨ ਵਾਲਿਆਂ ਅਤੇ ਵਧੇਰੇ ਤਜਰਬੇਕਾਰ ਸ਼ੌਕੀਨਾਂ ਦੋਵਾਂ ਲਈ ਥੋਡ਼ੇ ਉਲਝਣ ਵਾਲੇ ਜਾਪਦੇ ਹਨ।',\n",
       "  'ਸਟਾਰ ਲਈ ਵਿਰੋਧੀ ਸ਼ਬਦ।',\n",
       "  'ਸਟਾਰ-ਕ੍ਰਾਸਡ ਸਟਾਰ ਖੀਰੇ, ਨਾਮ ਦੀ ਵਿਕਲਪਿਕ ਸਪੈਲਿੰਗ।',\n",
       "  '(ਫਿਲਮ) ਸਿਨੇਮਾ ਵਿੱਚ ਫਿਲਮ ਸਿਤਾਰਿਆਂ ਨੂੰ ਬਣਾਉਣ, ਉਤਸ਼ਾਹਿਤ ਕਰਨ ਅਤੇ ਸ਼ੋਸ਼ਣ ਕਰਨ ਦਾ ਇੱਕ ਤਰੀਕਾ, ਅਦਾਕਾਰੀ ਦੀ ਬਜਾਏ ਉਨ੍ਹਾਂ ਦੇ ਚਿੱਤਰਾਂ ਉੱਤੇ ਜ਼ੋਰ ਦੇਣਾ।',\n",
       "  'ਸਟਾਰ ਟੌਪੌਲੌਜੀ, ਨਾਮ.',\n",
       "  '(ਫੌਜੀ) ਇੱਕ ਕਿਸਮ ਦਾ ਗੋਲਾ ਬਾਰੂਦ ਦਾ ਸ਼ੈੱਲ ਜੋ ਦੁਸ਼ਮਣ ਦੀਆਂ ਸਥਿਤੀਆਂ ਆਦਿ ਨੂੰ ਰੌਸ਼ਨ ਕਰਨ ਲਈ ਤਾਰਿਆਂ ਦੀ ਵਰਖਾ ਛੱਡਣ ਲਈ ਫਟਦਾ ਹੈ।',\n",
       "  'ਤਾਰਾ ਚਿੰਨ੍ਹ, ਨਾਮ.',\n",
       "  'ਧਰਤੀ ਉੱਤੇ, ਆਕਾਸ਼ੀ ਭੂਮੱਧ ਰੇਖਾ ਦਾ ਪਲੇਨ ਭੂਮੱਧ ਰੇਖਾ ਨਿਰਦੇਸ਼ਾਂਕ ਪ੍ਰਣਾਲੀ ਦਾ ਅਧਾਰ ਹੈ।']}"
      ]
     },
     "execution_count": 21,
     "metadata": {},
     "output_type": "execute_result"
    }
   ],
   "source": [
    "ds['train'][0]"
   ]
  },
  {
   "cell_type": "code",
   "execution_count": null,
   "metadata": {},
   "outputs": [],
   "source": []
  }
 ],
 "metadata": {
  "kernelspec": {
   "display_name": "ai4bharat",
   "language": "python",
   "name": "python3"
  },
  "language_info": {
   "codemirror_mode": {
    "name": "ipython",
    "version": 3
   },
   "file_extension": ".py",
   "mimetype": "text/x-python",
   "name": "python",
   "nbconvert_exporter": "python",
   "pygments_lexer": "ipython3",
   "version": "3.12.0"
  }
 },
 "nbformat": 4,
 "nbformat_minor": 2
}
