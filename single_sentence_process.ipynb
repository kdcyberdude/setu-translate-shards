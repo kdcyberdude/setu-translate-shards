{
 "cells": [
  {
   "cell_type": "code",
   "execution_count": 1,
   "metadata": {},
   "outputs": [],
   "source": [
    "test_text = '''– Computer viruses are parasitic programs which are able to replicate themselves, attach themselves to other executables in the computer, and perform some unwanted and often malicious actions. A virus is not able to spread itself to another computers, some user actions are needed for it to infect a new computer. Downloading and running software from untrusted sources, inserting an USB drive without a previous scan–remember always disable the AutoRun feature for the drives as CD-ROMs, DVD-ROMs– , downloading and running emails or IM attachments even from known persons, can put you in the nasty situation to have an infected computer. Always when you deal with these situations and to prevent computer infections, scan before to run.\n",
    "The best scanners in my opinion are multi-engine online scanners like virustotal.com or novirusthanks.org. The links of these scanners and many more are on the home page.\n",
    "The main three features of a virus are :\n",
    "– the replication mechanism search and find other executable files in your computer, check if the files are already infected–it has a special mechanism for that and if the file is clean then append itself to the file. It can append to the front, middle or end of the executable file thus changing the file size. This is also the reason why the number of new created viruses decreased in the last years, the AntiViruses has a very simple mechanism for “checking and compare” the files size –checksums at different period of times and a file bigger in size than at a previous date is a sign of infection.\n",
    "A special category of viruses are “Bacteria” viruses, they replicate themselves so quickly and in a such percentage that the harddisk will run very soon out of free space.\n",
    "– a trigger is designed to activate a task of the virus, as displaying strange messages, deleting files, sending emails, begin the replicate process or whatever the programmer write in his malicious code. The trigger can be a certain date in calendar–formerly know as Time Bombs, the time when some event occur, opening a certain program or other users actions. The trigger is very important for the virus spreading, because once infected the user will notice nothing strange in his computer, and will continue to spread the virus without to suspect anything. Other reason of this delaying of infection symptoms is for viruses to hide its tracks, the user simply does not know when and how it get infected.\n",
    "– the task or “payload” can differ from inoffensive ones like displaying joke messages, to deleting or editing important system files like hosts file , deleting or editing registry entries, sometimes making the computer unbootable.\n",
    "Using polymorphic engines, the viruses change the “virus signature”–their binary code each time when they infect a new computer making very difficult for AntiViruses to detect them using traditional “signature based” scanners.\n",
    "Macro Viruses can attach themselves to the executable portion of a spreadsheet documents in AutoOpen, AutoClose, AutoExit, or other file macros. The words processors are the most affected by these viruses, so to prevent the computer infections, always perform an AntiVirus scan for documents received as emails attachments, or received by another methods from another computers.\n",
    "– Computer worms are a special category of viruses with a very important feature added : they can spread themselves between computers, without the user interaction, exploiting some networks vulnerabilities or facilities as network shares or remote file executions. It’s recommended by some experts to disable the Windows Remote Assistance feature, seeing this as a possibly vulnerability. Once it infect a computer it looks forward for other computers connected to the network–LAN or Internet continuing to search for possibly victims.\n",
    "– Trojans are malicious executable files, masquerading as beneficial programs and tricking users to run their code. Very often they are embedded into other programs as setup or installers file and shared into the forums or blogs as pirated software(warez), so when the user run the installer of a program, the trojan will run in parallel infecting the computer. It’s a server-client software and once infecting a computer, it gives to the hacker where it connects the full power over the computer.\n",
    "The hacker can see screenshots of the victims computer, can see the webcam in real time, can download and upload files or run other malware.\n",
    "They are very trendy in nowdays and deserve a special attention, so a more detailed description of this type of malware will be given in the part 2 of this article.\n",
    "– Spyware is a malicious code able to gather private data from an infected computer and send it to the hacker. The data can be passwords, credit card numbers, login credentials and other private data. They accomplish their mission by using various mechanisms for decrypting passwords previously saved in web-browsers, keyloggers or screenshots. The computer user get infected by spyware in several ways by downloading and running “fake antiviruses” or “registry cleaners” or visiting malicious sites t'''"
   ]
  },
  {
   "cell_type": "code",
   "execution_count": 3,
   "metadata": {},
   "outputs": [],
   "source": [
    "import json\n",
    "from stages.document import Document\n",
    "from IndicTransTokenizer import IndicProcessor, IndicTransTokenizer\n",
    "import pandas as pd\n",
    "from transformers import AutoModelForSeq2SeqLM\n",
    "from datasets import Dataset, concatenate_datasets\n",
    "import torch\n",
    "from tqdm import tqdm\n",
    "from functools import partial\n",
    "\n",
    "ip = IndicProcessor(inference=True)\n",
    "tokenizer = IndicTransTokenizer(direction=\"en-indic\")\n",
    "placeholder_entity_maps = list(map(lambda ple_map: json.dumps(\n",
    "    ple_map), ip.get_placeholder_entity_maps(clear_ple_maps=True)))"
   ]
  },
  {
   "cell_type": "code",
   "execution_count": 5,
   "metadata": {},
   "outputs": [
    {
     "data": {
      "text/plain": [
       "['ਸੀ. ਡੀ. ਏ. ਪ੍ਰੇਸ',\n",
       " 'ਰਾ\\u0a37੍ਟ੍ਰੀਯ ਅਂਟਾਰ੍ਕਟਿਕ ਅਨੁਸਂਧਾਨ ਕਾਰ੍ਯਕ੍ਰਮ (ਪੀ. ਏਨ. ਆਰ. ਏ.)',\n",
       " 'ਪਾਵੇਲ ਕਾਲ ਪਾਵੇਲ ਕਾਲ (ਜਨ੍ਮ 9 ਜੁਲਾਈ, 1989) ਏਕ ਪੋਲਿਸ਼ ਫੁਟਬ\\u0a49ਲਰ ਹੈਂ ਜੋ ਕੋਰੋਨਾ ਕੀਲ੍ਸ ਕੇ ਲਿਏ ਖੇਲਤੇ ਹੈਂ। ਕੈਰਿਯਰ। ਸ੍ਵਾਸ੍ਥ੍ਯ ਸਮਸ੍ਯਾਓਂ (ਠੀਕ ਘੁਟਨੇ ਕਾ \\u0a11ਪਰੇਸ਼ਨ) ਕੇ ਕਾਰਣ ਉਨ੍ਹੇਂ ਫੁਟਬ\\u0a49ਲ ਖੇਲਨਾ ਬਂਦ ਕਰਨੇ ਕੇ ਲਿਏ ਮਜਬੂਰ ਹੋਨਾ ਪਡ਼ਾ। ਕ੍ਲਬ। ਫਰਵਰੀ 2011 ਮੇਂ, ਉਨ੍ਹੇਂ ਆਧੇ ਸਾਲ ਕੇ ਸੌਦੇ ਪਰ ਓਲਂਪਿਯਾ ਗ੍ਰੁਡ੍ਜ਼ਿਏਜ਼ ਕੋ ਉਧਾਰ ਦਿਯਾ ਗਯਾ ਥਾ। ਅਂਤਰ੍ਰਾ\\u0a37੍ਟ੍ਰੀਯ। ਵਹ ਪੋਲੈਂਡ ਕੀ ਰਾ\\u0a37੍ਟ੍ਰੀਯ ਅਂਡਰ-21 ਫੁਟਬ\\u0a49ਲ ਟੀਮ ਕਾ ਹਿਸ੍ਸਾ ਥੇ।']"
      ]
     },
     "execution_count": 5,
     "metadata": {},
     "output_type": "execute_result"
    }
   ],
   "source": [
    "\n",
    "\n",
    "kd = [\n",
    "    'सी. डी. ए. प्रेस', \n",
    "    'राष्ट्रीय अंटार्कटिक अनुसंधान कार्यक्रम (पी. एन. आर. ए.)',\n",
    "    'पावेल काल पावेल काल (जन्म 9 जुलाई, 1989) एक पोलिश फुटबॉलर हैं जो कोरोना कील्स के लिए खेलते हैं। कैरियर। स्वास्थ्य समस्याओं (ठीक घुटने का ऑपरेशन) के कारण उन्हें फुटबॉल खेलना बंद करने के लिए मजबूर होना पड़ा। क्लब। फरवरी 2011 में, उन्हें आधे साल के सौदे पर ओलंपिया ग्रुड्ज़िएज़ को उधार दिया गया था। अंतर्राष्ट्रीय। वह पोलैंड की राष्ट्रीय अंडर-21 फुटबॉल टीम का हिस्सा थे।'\n",
    "]\n",
    "\n",
    "res = ip.postprocess_batch(\n",
    "    kd, lang='pan_Guru', placeholder_entity_maps=[{}] * len(kd))\n",
    "res\n",
    "# ip.postprocess_batch(kd, lang= 'pan_Guru', placeholder_entity_maps=placeholder_entity_maps)"
   ]
  },
  {
   "cell_type": "code",
   "execution_count": 4,
   "metadata": {},
   "outputs": [],
   "source": [
    "device = 'cuda:0'\n",
    "model = AutoModelForSeq2SeqLM.from_pretrained(\"ai4bharat/indictrans2-en-indic-dist-200M\", trust_remote_code=True).eval().to(device)\n"
   ]
  },
  {
   "cell_type": "code",
   "execution_count": 28,
   "metadata": {},
   "outputs": [],
   "source": [
    "\n",
    "def padding_collator(\n",
    "    batch,\n",
    "    keys_to_pad=[\n",
    "        (\"input_ids\", 1),\n",
    "        (\"attention_mask\", 0),\n",
    "    ]\n",
    "):\n",
    "\n",
    "    batch_out = {key: [] for key in batch[0].keys()}\n",
    "\n",
    "    for sample in batch:\n",
    "        for key in batch_out.keys():\n",
    "            batch_out[key] += [sample[key]]\n",
    "\n",
    "    for key, value_to_pad_with in keys_to_pad:\n",
    "\n",
    "        len_list = list(map(lambda x: len(x), batch_out[key]))\n",
    "\n",
    "        padding_length = max(len_list)\n",
    "        tensor_list = []\n",
    "        for i, x in enumerate(batch_out[key]):\n",
    "\n",
    "            if len(x) < padding_length:\n",
    "                tensor_list += [torch.tensor([value_to_pad_with]\n",
    "                                             * (padding_length - len_list[i]) + x)]\n",
    "            else:\n",
    "                tensor_list += [torch.tensor(x)]\n",
    "\n",
    "        batch_out[key] = torch.stack(tensor_list)\n",
    "\n",
    "    return batch_out\n",
    "\n",
    "def decode(batch, src_lang=\"eng_Latn\", tgt_lang=\"hin_Deva\"):\n",
    "    p_batch = dict()\n",
    "    input_ids = batch.pop(\"translated_input_ids\")\n",
    "    placeholder_entity_maps_updated = list(\n",
    "        map(lambda ple_map: json.loads(ple_map), placeholder_entity_maps))\n",
    "    outputs = tokenizer.batch_decode(input_ids, src=False)\n",
    "    print('kdsingh: ', placeholder_entity_maps_updated)\n",
    "    print(outputs)\n",
    "    print(tgt_lang)\n",
    "    print(placeholder_entity_maps_updated)\n",
    "    print(len(outputs))\n",
    "    p_batch[\"translated\"] = ip.postprocess_batch(\n",
    "        outputs, lang=tgt_lang, placeholder_entity_maps=placeholder_entity_maps_updated)\n",
    "    return p_batch | {\n",
    "        \"translated_input_ids\": input_ids,\n",
    "    }"
   ]
  },
  {
   "cell_type": "code",
   "execution_count": 37,
   "metadata": {},
   "outputs": [
    {
     "data": {
      "text/plain": [
       "['कੰपिऊटर वाइरस परजीवी प्रोगराम हुੰदे हन जो आपणे आप नूੰ दुहराउण , कੰपिऊटर विੱच होर ऐकसीकिऊटेबल नाल जुड़न अते कुझ अणचाहे अते अकसर खतरनाक कारज करन दे योग हुੰदे हन ।',\n",
       " 'इੱक वाइरस आपणे आप नूੰ दूजे कੰपिऊटरां विੱच फैलाउण दे योग नहीं हुੰदा , इस नूੰ इੱक नवें कੰपिऊटर नूੰ सੰकरमित करन लई कुझ उपभोगता कारवाईआं दी ज़रूरत हुੰदी है ।',\n",
       " 'भरोसेयोग सरोतां तों साफटवेअर डाऊनलोड करना अते चलाउणा , पिछले सकैन तों बिनां इੱक यू . ऐੱस . बी . डराईव लगाउणा - याद रੱखो कि हमेस़ा डराईवां लई आटो - रन विस़ेस़ता नूੰ अयोग करो जिवें कि सीडी - रोमज़ , डीवीडी - रोमज़ - , ईमेलां जां आई . ऐੱम . अटैचमैंट नूੰ डाऊनलोड करना अते चलाउणा इੱथों तੱक कि जाणे - पछाणे विअकतीआं तों वी , तुहानूੰ इੱक सੰकरमित कੰपिऊटर रੱखण लई माड़ी सथिती विੱच पा सकदा है ।',\n",
       " 'हमेस़ा जदों तुसीं इन्हां सथितीआं नाल नजिੱठदे हो अते कੰपिऊटर दी लाग नूੰ रोकण लई , चलाउण तों पहिलां सकैन करो ।',\n",
       " 'मेरी राए विੱच सभ तों वधीआ सकैनर बहु - इੰजण औनलाईन सकैनर हन जिवें कि वाइरसटोटल ।',\n",
       " 'com जां नव - स़ौकीन ।',\n",
       " 'org .',\n",
       " 'इन्हां सकैनरां अते होर बहुत सारे दे लिੰक होम पेज उੱते हन ।',\n",
       " 'वाइरस दीआं मुੱख तिੰन विस़ेस़तावां हनः',\n",
       " '- प्रतीक्रिती विधी खोज करो अते आपणे कੰपिऊटर विੱच होर चलाउण योग फाईलां लੱभो , जांच करो कि की फाईलां पहिलां ही सੰकरमित हन - इस विੱच उस लई इੱक विस़ेस़ विधी है अते जे फाईल साफ़ है तां आपणे आप नूੰ फाईल विੱच स़ामल करो ।',\n",
       " 'इह ऐकसीकिऊटेबल फाईल दे साहमणे , मੱध जां अੰत विੱच जोड़ सकदा है इस तर्हां फाईल दा आकार बदल सकदा है ।',\n",
       " 'इह वी कारन है कि पिछले सालां विੱच नवें बणाए गए वाइरसां दी गिणती विੱच कमी आई है , ऐंटीवाइरस विੱच वੱख - वੱख समें विੱच फाईलां दे आकार - चैੱकम दी \" जांच अते तुलना \" करन लई इੱक बहुत ही असान विधी है अते इੱक फाईल पिछले समें नालों वੱडी फाईल लाग दा सੰकेत है ।',\n",
       " 'वाइरसां दी इੱक विस़ेस़ स़्रेणी \" बैकटीरीआ \" वाइरस हन , उह आपणे आप नूੰ इੰनी तेज़ी नाल अते इੰनी प्रतीस़तता विੱच दुहराउंदे हन कि हारडडिसक बहुत जलदी खाली जग्हा तों बाहर हो जावेगा ।',\n",
       " '- इੱक टरिੱगर वाइरस दे किसे कੰम नूੰ सरगरम करन लई तिआर कीता गिआ है , जिवें कि अजीब सੰदेस़ प्रदरस़ित करना , फाईलां नूੰ मिटाउणा , ईमेल भेजणा , प्रतीक्रिती प्रकिरिआ स़ुरू करना जां जो वी प्रोगरामर आपणे खतरनाक कोड विੱच लिखदा है ।',\n",
       " 'टरिੱगर कैलੰडर विੱच इੱक निस़चित मिती हो सकदी है - पहिलां टाईम बੰब वजों जाणिआ जांदा सी , उह समां जदों कोई घटना वापरदी है , इੱक खास प्रोगराम खोल्हणा जां होर उपभोगता कारवाईआं ।',\n",
       " 'वाइरस दे फैलण लई टरिੱगर बहुत महੱतवपूरन है , किउंकि इੱक वार सੰकरमित होण तों बाअद उपभोगता आपणे कੰपिऊटर विੱच कुझ वी अजीब नहीं वेखेगा , अते बिनां किसे स़ੱक दे वाइरस नूੰ फैलाउणा जारी रੱखेगा ।',\n",
       " 'लाग दे लੱछणां विੱच इस देरी दा इੱक होर कारन वाइरसां दुआरा आपणे टरैकां नूੰ लुकाउणा है , उपभोगता नूੰ इह नहीं पता कि इह कदों अते किवें सੰकरमित हुੰदा है ।',\n",
       " '- कੰम जां \" पेलोड \" अणउचित विअकतीआं तों वੱखरा हो सकदा है जिवें कि मज़ाक सੰदेस़ प्रदरस़ित करना , होसट फाईल वरगीआं महੱतवपूरन सिसटम फाईलां नूੰ मिटाउणा जां सੰपादित करना , रजिसटर ऐंटरीआं नूੰ मिटाउणा जां सੰपादित करना , कई वार कੰपिऊटर नूੰ बूट करन योग नहीं बणाउंदा ।',\n",
       " 'पोलीमोरफिक इੰजणां दी वरतों करदे होए , वाइरस हर वार \" वाइरस दसतखत \" नूੰ बदलदे हन - जदों उह इੱक नवें कੰपिऊटर नूੰ सੰकरमित करदे हन तां ऐंटीवाइरस लई रवाइती \" दसतखत अधारत \" सकैनरां दी वरतों करके उहनां दा पता लगाउणा बहुत मुस़कल हो जांदा है ।',\n",
       " 'मैकरो वाइरस आपणे आप नूੰ आटोपैन , आटोकोलोज़ , आटोऐकसाइट जां होर फाईल मैकरो विੱच इੱक सप्रैडस़ीट दसतावेज़ां दे चलाउण योग हिੱसे नाल जोड़ सकदे हन ।',\n",
       " 'स़बद प्रोसैसर इन्हां वाइरसां तों सभ तों वੱध प्रभावित हुੰदे हन , इस लई कੰपिऊटर दी लाग नूੰ रोकण लई , ईमेल अटैचमैंट वजों प्रापत दसतावेज़ां लई , जां किसे होर कੰपिऊटर तों किसे होर ढੰग नाल प्रापत दसतावेज़ां लई हमेस़ा इੱक ऐंटीवाइरस सकैन करो ।',\n",
       " 'कੰपिऊटर कीड़े वाइरसां दी इੱक विस़ेस़ स़्रेणी है जिस विੱच इੱक बहुत ही महੱतवपूरन विस़ेस़ता स़ामल कीती गई हैः उह आपणे आप नूੰ कੰपिऊटरां दे विचकार फैला सकदे हन , उपभोगता दी गੱलबात तों बिनां , नैटवरक स़ेअर जां रिमोट फाईल ऐगज़ीकिऊस़न दे रूप विੱच कुझ नैटवरक कमज़ोरीआं जां सहूलतां दा स़ोस़ण कर सकदे हन ।',\n",
       " \"कुੱझ माहरां दुआरा विੰडोज़ रिमोट सहाइता विस़ेस़ता नूੰ अयोग करन दी सिफारस़ कीती जांदी है , इस नूੰ सੰभावत तौर ' ते असुरੱखिआ दे रूप विੱच वेखिआ जांदा है ।\",\n",
       " \"इੱक वार जदों इह इੱक कੰपिऊटर नूੰ सੰकरमित करदा है तां इह नैੱटवरक - लैन जां इੰटरनैट नाल जुड़े होर कੰपिऊटरां दी उमीद करदा है जो सੰभव तौर ' ते पीड़तां दी भाल जारी रੱखदे हन ।\",\n",
       " '- ट्रोजन खतरनाक चलाउण योग फाईलां हन , जो लाभकारी प्रोगरामां दे रूप विੱच भेस विੱच हन अते उपभोगतावां नूੰ आपणा कोड चलाउण लई धोखा दिੰदीआं हन ।',\n",
       " 'बहुत वार उह सैੱटअੱप जां इੰसटालर फाईल दे रूप विੱच होर प्रोगरामां विੱच स़ामल हुੰदे हन अते फोरमां जां बलौगां विੱच पाईरेटिड साੱफटवेअर ( वेअरज़ ) दे रूप विੱच सांझे कीते जांदे हन , इस लई जदों उपभोगता किसे प्रोगराम दे इੰसटालर नूੰ चलाउंदा है , तां टरोजन कੰपिऊटर नूੰ सੰकरमित करन लई समानांतर रूप विੱच चੱलेगा ।',\n",
       " 'इह इੱक सरवर - कलाइੰट साੱफटवेअर है अते इੱक वार कੰपिऊटर नूੰ सੰकरमित करन तों बाअद , इह हैकर नूੰ दिੰदा है जिੱथे इह कੰपिऊटर उੱते पूरी स़कती नूੰ जोड़दा है ।',\n",
       " 'हैकर पीड़त कੰपिऊटर दे सक्रीनस़ाट देख सकदा है , वैबकैम नूੰ रीअल टाईम विੱच देख सकदा है , फाईलां डाऊनलोड अते अपलोड कर सकदा है जां होर मालवेअर चला सकदा है ।',\n",
       " 'उह अੱज - कੱल्ह बहुत ही आधुनिक हन अते विस़ेस़ धिआन देण दे हੱकदार हन , इस लई इस लेख दे भाग 2 विੱच इस किसम दे मालवेअर दा वधेरे विसत्रित वेरवा दिੱता जावेगा ।',\n",
       " '- सपाईवेअर इੱक खतरनाक कोड है जो इੱक सੰकरमित कੰपिऊटर तों निੱजी डेटा इकੱठा करन अते इस नूੰ हैकर नूੰ भेजण दे योग है ।',\n",
       " 'डाटा पासवरड , क्रैडिट कारड नੰबर , लौगइन प्रमाण पੱतर अते होर निੱजी डेटा हो सकदा है ।',\n",
       " 'उह वैੱब - बराऊज़रां , कीलौगरां जां सक्रीनस़ाटां विੱच पहिलां सुरੱखिअत कीते गए पासवरडां नूੰ डीक्रिपट करन लई वੱख - वੱख विधीआं दी वरतों करके आपणे मिस़न नूੰ पूरा करदे हन ।',\n",
       " 'कੰपिऊटर उपभोगता \" जाअली ऐंटीवाइरस \" जां \" रजिसटर कलीनर \" डाऊनलोड करके अते चला के जां खतरनाक साईटां \\' ते जा के कई तरीकिआं नाल सपाईवेअर दुआरा सੰकरमित हो जांदा है ।']"
      ]
     },
     "execution_count": 37,
     "metadata": {},
     "output_type": "execute_result"
    }
   ],
   "source": [
    "kd"
   ]
  },
  {
   "cell_type": "code",
   "execution_count": 44,
   "metadata": {},
   "outputs": [
    {
     "name": "stdout",
     "output_type": "stream",
     "text": [
      "[]\n",
      "33\n"
     ]
    },
    {
     "data": {
      "text/plain": [
       "[]"
      ]
     },
     "execution_count": 44,
     "metadata": {},
     "output_type": "execute_result"
    }
   ],
   "source": [
    "placeholder_entity_maps_updated = list(\n",
    "        map(lambda ple_map: json.loads(ple_map), placeholder_entity_maps))\n",
    "print(placeholder_entity_maps_updated)\n",
    "placeholder_entity_maps_updated = [placeholder_entity_maps_updated] * len(kd)\n",
    "print(len(kd))\n",
    "ip.postprocess_batch(\n",
    "        kd, lang='pan_Guru', placeholder_entity_maps=[] )"
   ]
  },
  {
   "cell_type": "code",
   "execution_count": 6,
   "metadata": {},
   "outputs": [],
   "source": [
    "\n",
    "\n",
    "def preprocess(text):\n",
    "    text = text.strip()\n",
    "    if text == '':\n",
    "        return None\n",
    "    doc = Document(text=text,)\n",
    "    doc_dict = doc.get_templated_document_attrs()\n",
    "    doc_id = doc_dict[\"doc_id\"]\n",
    "    result = {}\n",
    "    sids = json.loads(doc_dict[\"sids\"])\n",
    "    substrs = json.loads(doc_dict[\"sub_strs\"])\n",
    "    result['doc_id'] = [doc_id] * len(sids)\n",
    "    result['sid'] = sids\n",
    "    result['substr'] = substrs\n",
    "\n",
    "    padding = 'max_length'\n",
    "    src_lang = 'eng_Latn'\n",
    "    tgt_lang = 'pan_Guru'\n",
    "    batch_size = 1024\n",
    "\n",
    "    input_ids_all, attention_mask_all = [], []\n",
    "    for i in range(0, len(result['substr']), batch_size):\n",
    "        batch = result['substr'][i:i+batch_size]\n",
    "        sentences = ip.preprocess_batch(\n",
    "            batch,\n",
    "            src_lang=src_lang,\n",
    "            tgt_lang=tgt_lang\n",
    "        )\n",
    "        input_ids, attention_mask = tokenizer(\n",
    "            sentences, src=True, padding=padding, truncation=True if padding == 'max_length' else False, return_tensors='pt').values()\n",
    "        input_ids_all.extend(input_ids)\n",
    "        attention_mask_all.extend(attention_mask)\n",
    "\n",
    "    result['input_ids'] = input_ids_all\n",
    "    result['attention_mask'] = attention_mask_all\n",
    "    return result\n",
    "\n",
    "\n",
    "def translate(data):\n",
    "    ds = Dataset.from_dict(data)\n",
    "    batch_size = 32  # expectedly will use 5 - 5.5 GB of GPU memory\n",
    "    device = 'cuda:0'\n",
    "\n",
    "    data_loader = torch.utils.data.DataLoader(\n",
    "        ds, batch_size=batch_size, drop_last=False, num_workers=1, collate_fn=padding_collator)\n",
    "\n",
    "    run_ds = Dataset.from_dict(\n",
    "        {key: [] for key in [\"doc_id\", \"sid\" \"sub_str\",\n",
    "                             \"translated_input_ids\", \"placeholder_entity_map\"]},\n",
    "    )\n",
    "    with torch.no_grad():\n",
    "        for idx, batch in tqdm(enumerate(data_loader, 0), total=len(data_loader), unit=f\"ba: {batch_size} samples/ba\"):\n",
    "            input_ids = batch[\"input_ids\"].to(device)\n",
    "            outputs = model.generate(input_ids=input_ids, num_beams=1,\n",
    "                                     num_return_sequences=1, max_length=256, do_sample=False)\n",
    "\n",
    "            run_ds = concatenate_datasets([\n",
    "                run_ds,\n",
    "                Dataset.from_dict({\n",
    "                    \"doc_id\": batch[\"doc_id\"],\n",
    "                    \"sid\": batch[\"sid\"],\n",
    "                    \"sub_str\": batch[\"substr\"],\n",
    "                    \"translated_input_ids\": outputs.to(\"cpu\"),\n",
    "                })\n",
    "            ])\n",
    "\n",
    "    return run_ds\n",
    "\n",
    "\n",
    "def postprocess(ds):\n",
    "    src_lang = 'eng_Latn'\n",
    "    tgt_lang = 'pan_Guru'\n",
    "    decoded_ds = ds.map(\n",
    "        partial(\n",
    "            decode,\n",
    "            src_lang=src_lang,\n",
    "            tgt_lang=tgt_lang,\n",
    "        ),\n",
    "        batched=True,\n",
    "    )\n",
    "    if len(decoded_ds[\"doc_id\"]) == 0:\n",
    "        return None\n",
    "    decoded_ds = {\n",
    "        \"id\": decoded_ds[\"doc_id\"][0],\n",
    "        \"eng\": decoded_ds[\"sub_str\"],\n",
    "        \"pan\": decoded_ds[\"translated\"],\n",
    "    }\n",
    "    return decoded_ds"
   ]
  },
  {
   "cell_type": "code",
   "execution_count": 29,
   "metadata": {},
   "outputs": [
    {
     "name": "stdout",
     "output_type": "stream",
     "text": [
      "dict_keys(['doc_id', 'sid', 'substr', 'input_ids', 'attention_mask'])\n"
     ]
    },
    {
     "name": "stderr",
     "output_type": "stream",
     "text": [
      "100%|██████████| 2/2 [00:02<00:00,  1.23s/ba: 32 samples/ba]\n"
     ]
    },
    {
     "name": "stdout",
     "output_type": "stream",
     "text": [
      "Dataset({\n",
      "    features: ['doc_id', 'sid', 'sub_str', 'translated_input_ids'],\n",
      "    num_rows: 33\n",
      "})\n"
     ]
    },
    {
     "data": {
      "application/vnd.jupyter.widget-view+json": {
       "model_id": "85dd3250d708438dbb9c621e630f4528",
       "version_major": 2,
       "version_minor": 0
      },
      "text/plain": [
       "Map:   0%|          | 0/33 [00:00<?, ? examples/s]"
      ]
     },
     "metadata": {},
     "output_type": "display_data"
    },
    {
     "name": "stdout",
     "output_type": "stream",
     "text": [
      "kdsingh:  []\n",
      "['कੰपिऊटर वाइरस परजीवी प्रोगराम हुੰदे हन जो आपणे आप नूੰ दुहराउण , कੰपिऊटर विੱच होर ऐकसीकिऊटेबल नाल जुड़न अते कुझ अणचाहे अते अकसर खतरनाक कारज करन दे योग हुੰदे हन ।', 'इੱक वाइरस आपणे आप नूੰ दूजे कੰपिऊटरां विੱच फैलाउण दे योग नहीं हुੰदा , इस नूੰ इੱक नवें कੰपिऊटर नूੰ सੰकरमित करन लई कुझ उपभोगता कारवाईआं दी ज़रूरत हुੰदी है ।', 'भरोसेयोग सरोतां तों साफटवेअर डाऊनलोड करना अते चलाउणा , पिछले सकैन तों बिनां इੱक यू . ऐੱस . बी . डराईव लगाउणा - याद रੱखो कि हमेस़ा डराईवां लई आटो - रन विस़ेस़ता नूੰ अयोग करो जिवें कि सीडी - रोमज़ , डीवीडी - रोमज़ - , ईमेलां जां आई . ऐੱम . अटैचमैंट नूੰ डाऊनलोड करना अते चलाउणा इੱथों तੱक कि जाणे - पछाणे विअकतीआं तों वी , तुहानूੰ इੱक सੰकरमित कੰपिऊटर रੱखण लई माड़ी सथिती विੱच पा सकदा है ।', 'हमेस़ा जदों तुसीं इन्हां सथितीआं नाल नजिੱठदे हो अते कੰपिऊटर दी लाग नूੰ रोकण लई , चलाउण तों पहिलां सकैन करो ।', 'मेरी राए विੱच सभ तों वधीआ सकैनर बहु - इੰजण औनलाईन सकैनर हन जिवें कि वाइरसटोटल ।', 'com जां नव - स़ौकीन ।', 'org .', 'इन्हां सकैनरां अते होर बहुत सारे दे लिੰक होम पेज उੱते हन ।', 'वाइरस दीआं मुੱख तिੰन विस़ेस़तावां हनः', '- प्रतीक्रिती विधी खोज करो अते आपणे कੰपिऊटर विੱच होर चलाउण योग फाईलां लੱभो , जांच करो कि की फाईलां पहिलां ही सੰकरमित हन - इस विੱच उस लई इੱक विस़ेस़ विधी है अते जे फाईल साफ़ है तां आपणे आप नूੰ फाईल विੱच स़ामल करो ।', 'इह ऐकसीकिऊटेबल फाईल दे साहमणे , मੱध जां अੰत विੱच जोड़ सकदा है इस तर्हां फाईल दा आकार बदल सकदा है ।', 'इह वी कारन है कि पिछले सालां विੱच नवें बणाए गए वाइरसां दी गिणती विੱच कमी आई है , ऐंटीवाइरस विੱच वੱख - वੱख समें विੱच फाईलां दे आकार - चैੱकम दी \" जांच अते तुलना \" करन लई इੱक बहुत ही असान विधी है अते इੱक फाईल पिछले समें नालों वੱडी फाईल लाग दा सੰकेत है ।', 'वाइरसां दी इੱक विस़ेस़ स़्रेणी \" बैकटीरीआ \" वाइरस हन , उह आपणे आप नूੰ इੰनी तेज़ी नाल अते इੰनी प्रतीस़तता विੱच दुहराउंदे हन कि हारडडिसक बहुत जलदी खाली जग्हा तों बाहर हो जावेगा ।', '- इੱक टरिੱगर वाइरस दे किसे कੰम नूੰ सरगरम करन लई तिआर कीता गिआ है , जिवें कि अजीब सੰदेस़ प्रदरस़ित करना , फाईलां नूੰ मिटाउणा , ईमेल भेजणा , प्रतीक्रिती प्रकिरिआ स़ुरू करना जां जो वी प्रोगरामर आपणे खतरनाक कोड विੱच लिखदा है ।', 'टरिੱगर कैलੰडर विੱच इੱक निस़चित मिती हो सकदी है - पहिलां टाईम बੰब वजों जाणिआ जांदा सी , उह समां जदों कोई घटना वापरदी है , इੱक खास प्रोगराम खोल्हणा जां होर उपभोगता कारवाईआं ।', 'वाइरस दे फैलण लई टरिੱगर बहुत महੱतवपूरन है , किउंकि इੱक वार सੰकरमित होण तों बाअद उपभोगता आपणे कੰपिऊटर विੱच कुझ वी अजीब नहीं वेखेगा , अते बिनां किसे स़ੱक दे वाइरस नूੰ फैलाउणा जारी रੱखेगा ।', 'लाग दे लੱछणां विੱच इस देरी दा इੱक होर कारन वाइरसां दुआरा आपणे टरैकां नूੰ लुकाउणा है , उपभोगता नूੰ इह नहीं पता कि इह कदों अते किवें सੰकरमित हुੰदा है ।', '- कੰम जां \" पेलोड \" अणउचित विअकतीआं तों वੱखरा हो सकदा है जिवें कि मज़ाक सੰदेस़ प्रदरस़ित करना , होसट फाईल वरगीआं महੱतवपूरन सिसटम फाईलां नूੰ मिटाउणा जां सੰपादित करना , रजिसटर ऐंटरीआं नूੰ मिटाउणा जां सੰपादित करना , कई वार कੰपिऊटर नूੰ बूट करन योग नहीं बणाउंदा ।', 'पोलीमोरफिक इੰजणां दी वरतों करदे होए , वाइरस हर वार \" वाइरस दसतखत \" नूੰ बदलदे हन - जदों उह इੱक नवें कੰपिऊटर नूੰ सੰकरमित करदे हन तां ऐंटीवाइरस लई रवाइती \" दसतखत अधारत \" सकैनरां दी वरतों करके उहनां दा पता लगाउणा बहुत मुस़कल हो जांदा है ।', 'मैकरो वाइरस आपणे आप नूੰ आटोपैन , आटोकोलोज़ , आटोऐकसाइट जां होर फाईल मैकरो विੱच इੱक सप्रैडस़ीट दसतावेज़ां दे चलाउण योग हिੱसे नाल जोड़ सकदे हन ।', 'स़बद प्रोसैसर इन्हां वाइरसां तों सभ तों वੱध प्रभावित हुੰदे हन , इस लई कੰपिऊटर दी लाग नूੰ रोकण लई , ईमेल अटैचमैंट वजों प्रापत दसतावेज़ां लई , जां किसे होर कੰपिऊटर तों किसे होर ढੰग नाल प्रापत दसतावेज़ां लई हमेस़ा इੱक ऐंटीवाइरस सकैन करो ।', 'कੰपिऊटर कीड़े वाइरसां दी इੱक विस़ेस़ स़्रेणी है जिस विੱच इੱक बहुत ही महੱतवपूरन विस़ेस़ता स़ामल कीती गई हैः उह आपणे आप नूੰ कੰपिऊटरां दे विचकार फैला सकदे हन , उपभोगता दी गੱलबात तों बिनां , नैटवरक स़ेअर जां रिमोट फाईल ऐगज़ीकिऊस़न दे रूप विੱच कुझ नैटवरक कमज़ोरीआं जां सहूलतां दा स़ोस़ण कर सकदे हन ।', \"कुੱझ माहरां दुआरा विੰडोज़ रिमोट सहाइता विस़ेस़ता नूੰ अयोग करन दी सिफारस़ कीती जांदी है , इस नूੰ सੰभावत तौर ' ते असुरੱखिआ दे रूप विੱच वेखिआ जांदा है ।\", \"इੱक वार जदों इह इੱक कੰपिऊटर नूੰ सੰकरमित करदा है तां इह नैੱटवरक - लैन जां इੰटरनैट नाल जुड़े होर कੰपिऊटरां दी उमीद करदा है जो सੰभव तौर ' ते पीड़तां दी भाल जारी रੱखदे हन ।\", '- ट्रोजन खतरनाक चलाउण योग फाईलां हन , जो लाभकारी प्रोगरामां दे रूप विੱच भेस विੱच हन अते उपभोगतावां नूੰ आपणा कोड चलाउण लई धोखा दिੰदीआं हन ।', 'बहुत वार उह सैੱटअੱप जां इੰसटालर फाईल दे रूप विੱच होर प्रोगरामां विੱच स़ामल हुੰदे हन अते फोरमां जां बलौगां विੱच पाईरेटिड साੱफटवेअर ( वेअरज़ ) दे रूप विੱच सांझे कीते जांदे हन , इस लई जदों उपभोगता किसे प्रोगराम दे इੰसटालर नूੰ चलाउंदा है , तां टरोजन कੰपिऊटर नूੰ सੰकरमित करन लई समानांतर रूप विੱच चੱलेगा ।', 'इह इੱक सरवर - कलाइੰट साੱफटवेअर है अते इੱक वार कੰपिऊटर नूੰ सੰकरमित करन तों बाअद , इह हैकर नूੰ दिੰदा है जिੱथे इह कੰपिऊटर उੱते पूरी स़कती नूੰ जोड़दा है ।', 'हैकर पीड़त कੰपिऊटर दे सक्रीनस़ाट देख सकदा है , वैबकैम नूੰ रीअल टाईम विੱच देख सकदा है , फाईलां डाऊनलोड अते अपलोड कर सकदा है जां होर मालवेअर चला सकदा है ।', 'उह अੱज - कੱल्ह बहुत ही आधुनिक हन अते विस़ेस़ धिआन देण दे हੱकदार हन , इस लई इस लेख दे भाग 2 विੱच इस किसम दे मालवेअर दा वधेरे विसत्रित वेरवा दिੱता जावेगा ।', '- सपाईवेअर इੱक खतरनाक कोड है जो इੱक सੰकरमित कੰपिऊटर तों निੱजी डेटा इकੱठा करन अते इस नूੰ हैकर नूੰ भेजण दे योग है ।', 'डाटा पासवरड , क्रैडिट कारड नੰबर , लौगइन प्रमाण पੱतर अते होर निੱजी डेटा हो सकदा है ।', 'उह वैੱब - बराऊज़रां , कीलौगरां जां सक्रीनस़ाटां विੱच पहिलां सुरੱखिअत कीते गए पासवरडां नूੰ डीक्रिपट करन लई वੱख - वੱख विधीआं दी वरतों करके आपणे मिस़न नूੰ पूरा करदे हन ।', 'कੰपिऊटर उपभोगता \" जाअली ऐंटीवाइरस \" जां \" रजिसटर कलीनर \" डाऊनलोड करके अते चला के जां खतरनाक साईटां \\' ते जा के कई तरीकिआं नाल सपाईवेअर दुआरा सੰकरमित हो जांदा है ।']\n",
      "pan_Guru\n",
      "[]\n",
      "33\n",
      "{'id': '65840d1827c5a43e736651d22c79c236b7874b02afeb8a0b69f81739563c6635', 'eng': ['– computer viruses are parasitic programs which are able to replicate themselves, attach themselves to other executables in the computer, and perform some unwanted and often malicious actions.', 'a virus is not able to spread itself to another computers, some user actions are needed for it to infect a new computer.', 'downloading and running software from untrusted sources, inserting an usb drive without a previous scan–remember always disable the autorun feature for the drives as cd-roms, dvd-roms– , downloading and running emails or im attachments even from known persons, can put you in the nasty situation to have an infected computer.', 'always when you deal with these situations and to prevent computer infections, scan before to run.', 'the best scanners in my opinion are multi-engine online scanners like virustotal.', 'com or novirusthanks.', 'org.', 'the links of these scanners and many more are on the home page.', 'the main three features of a virus are :', '– the replication mechanism search and find other executable files in your computer, check if the files are already infected–it has a special mechanism for that and if the file is clean then append itself to the file.', 'it can append to the front, middle or end of the executable file thus changing the file size.', 'this is also the reason why the number of new created viruses decreased in the last years, the antiviruses has a very simple mechanism for “checking and compare” the files size –checksums at different period of times and a file bigger in size than at a previous date is a sign of infection.', 'a special category of viruses are “bacteria” viruses, they replicate themselves so quickly and in a such percentage that the harddisk will run very soon out of free space.', '– a trigger is designed to activate a task of the virus, as displaying strange messages, deleting files, sending emails, begin the replicate process or whatever the programmer write in his malicious code.', 'the trigger can be a certain date in calendar–formerly know as time bombs, the time when some event occur, opening a certain program or other users actions.', 'the trigger is very important for the virus spreading, because once infected the user will notice nothing strange in his computer, and will continue to spread the virus without to suspect anything.', 'other reason of this delaying of infection symptoms is for viruses to hide its tracks, the user simply does not know when and how it get infected.', '– the task or “payload” can differ from inoffensive ones like displaying joke messages, to deleting or editing important system files like hosts file , deleting or editing registry entries, sometimes making the computer unbootable.', 'using polymorphic engines, the viruses change the “virus signature”–their binary code each time when they infect a new computer making very difficult for antiviruses to detect them using traditional “signature based” scanners.', 'macro viruses can attach themselves to the executable portion of a spreadsheet documents in autoopen, autoclose, autoexit, or other file macros.', 'the words processors are the most affected by these viruses, so to prevent the computer infections, always perform an antivirus scan for documents received as emails attachments, or received by another methods from another computers.', '– computer worms are a special category of viruses with a very important feature added : they can spread themselves between computers, without the user interaction, exploiting some networks vulnerabilities or facilities as network shares or remote file executions.', 'it’s recommended by some experts to disable the windows remote assistance feature, seeing this as a possibly vulnerability.', 'once it infect a computer it looks forward for other computers connected to the network–lan or internet continuing to search for possibly victims.', '– trojans are malicious executable files, masquerading as beneficial programs and tricking users to run their code.', 'very often they are embedded into other programs as setup or installers file and shared into the forums or blogs as pirated software(warez), so when the user run the installer of a program, the trojan will run in parallel infecting the computer.', 'it’s a server-client software and once infecting a computer, it gives to the hacker where it connects the full power over the computer.', 'the hacker can see screenshots of the victims computer, can see the webcam in real time, can download and upload files or run other malware.', 'they are very trendy in nowdays and deserve a special attention, so a more detailed description of this type of malware will be given in the part 2 of this article.', '– spyware is a malicious code able to gather private data from an infected computer and send it to the hacker.', 'the data can be passwords, credit card numbers, login credentials and other private data.', 'they accomplish their mission by using various mechanisms for decrypting passwords previously saved in web-browsers, keyloggers or screenshots.', 'the computer user get infected by spyware in several ways by downloading and running “fake antiviruses” or “registry cleaners” or visiting malicious sites t'], 'pan': ['ਕੰਪਿਊਟਰ ਵਾਇਰਸ ਪਰਜੀਵੀ ਪ੍ਰੋਗਰਾਮ ਹੁੰਦੇ ਹਨ ਜੋ ਆਪਣੇ ਆਪ ਨੂੰ ਦੁਹਰਾਉਣ, ਕੰਪਿਊਟਰ ਵਿੱਚ ਹੋਰ ਐਕਸੀਕਿਊਟੇਬਲ ਨਾਲ ਜੁਡ਼ਨ ਅਤੇ ਕੁਝ ਅਣਚਾਹੇ ਅਤੇ ਅਕਸਰ ਖਤਰਨਾਕ ਕਾਰਜ ਕਰਨ ਦੇ ਯੋਗ ਹੁੰਦੇ ਹਨ।', 'ਇੱਕ ਵਾਇਰਸ ਆਪਣੇ ਆਪ ਨੂੰ ਦੂਜੇ ਕੰਪਿਊਟਰਾਂ ਵਿੱਚ ਫੈਲਾਉਣ ਦੇ ਯੋਗ ਨਹੀਂ ਹੁੰਦਾ, ਇਸ ਨੂੰ ਇੱਕ ਨਵੇਂ ਕੰਪਿਊਟਰ ਨੂੰ ਸੰਕਰਮਿਤ ਕਰਨ ਲਈ ਕੁਝ ਉਪਭੋਗਤਾ ਕਾਰਵਾਈਆਂ ਦੀ ਜ਼ਰੂਰਤ ਹੁੰਦੀ ਹੈ।', 'ਭਰੋਸੇਯੋਗ ਸਰੋਤਾਂ ਤੋਂ ਸਾਫਟਵੇਅਰ ਡਾਊਨਲੋਡ ਕਰਨਾ ਅਤੇ ਚਲਾਉਣਾ, ਪਿਛਲੇ ਸਕੈਨ ਤੋਂ ਬਿਨਾਂ ਇੱਕ ਯੂ. ਐੱਸ. ਬੀ. ਡਰਾਈਵ ਲਗਾਉਣਾ-ਯਾਦ ਰੱਖੋ ਕਿ ਹਮੇਸ਼ਾ ਡਰਾਈਵਾਂ ਲਈ ਆਟੋ-ਰਨ ਵਿਸ਼ੇਸ਼ਤਾ ਨੂੰ ਅਯੋਗ ਕਰੋ ਜਿਵੇਂ ਕਿ ਸੀਡੀ-ਰੋਮਜ਼, ਡੀਵੀਡੀ-ਰੋਮਜ਼-, ਈਮੇਲਾਂ ਜਾਂ ਆਈ. ਐੱਮ. ਅਟੈਚਮੈਂਟ ਨੂੰ ਡਾਊਨਲੋਡ ਕਰਨਾ ਅਤੇ ਚਲਾਉਣਾ ਇੱਥੋਂ ਤੱਕ ਕਿ ਜਾਣੇ-ਪਛਾਣੇ ਵਿਅਕਤੀਆਂ ਤੋਂ ਵੀ, ਤੁਹਾਨੂੰ ਇੱਕ ਸੰਕਰਮਿਤ ਕੰਪਿਊਟਰ ਰੱਖਣ ਲਈ ਮਾਡ਼ੀ ਸਥਿਤੀ ਵਿੱਚ ਪਾ ਸਕਦਾ ਹੈ।', 'ਹਮੇਸ਼ਾ ਜਦੋਂ ਤੁਸੀਂ ਇਨ੍ਹਾਂ ਸਥਿਤੀਆਂ ਨਾਲ ਨਜਿੱਠਦੇ ਹੋ ਅਤੇ ਕੰਪਿਊਟਰ ਦੀ ਲਾਗ ਨੂੰ ਰੋਕਣ ਲਈ, ਚਲਾਉਣ ਤੋਂ ਪਹਿਲਾਂ ਸਕੈਨ ਕਰੋ।', 'ਮੇਰੀ ਰਾਏ ਵਿੱਚ ਸਭ ਤੋਂ ਵਧੀਆ ਸਕੈਨਰ ਬਹੁ-ਇੰਜਣ ਔਨਲਾਈਨ ਸਕੈਨਰ ਹਨ ਜਿਵੇਂ ਕਿ ਵਾਇਰਸਟੋਟਲ।', 'com ਜਾਂ ਨਵ-ਸ਼ੌਕੀਨ।', 'org.', 'ਇਨ੍ਹਾਂ ਸਕੈਨਰਾਂ ਅਤੇ ਹੋਰ ਬਹੁਤ ਸਾਰੇ ਦੇ ਲਿੰਕ ਹੋਮ ਪੇਜ ਉੱਤੇ ਹਨ।', 'ਵਾਇਰਸ ਦੀਆਂ ਮੁੱਖ ਤਿੰਨ ਵਿਸ਼ੇਸ਼ਤਾਵਾਂ ਹਨਃ', '- ਪ੍ਰਤੀਕ੍ਰਿਤੀ ਵਿਧੀ ਖੋਜ ਕਰੋ ਅਤੇ ਆਪਣੇ ਕੰਪਿਊਟਰ ਵਿੱਚ ਹੋਰ ਚਲਾਉਣ ਯੋਗ ਫਾਈਲਾਂ ਲੱਭੋ, ਜਾਂਚ ਕਰੋ ਕਿ ਕੀ ਫਾਈਲਾਂ ਪਹਿਲਾਂ ਹੀ ਸੰਕਰਮਿਤ ਹਨ-ਇਸ ਵਿੱਚ ਉਸ ਲਈ ਇੱਕ ਵਿਸ਼ੇਸ਼ ਵਿਧੀ ਹੈ ਅਤੇ ਜੇ ਫਾਈਲ ਸਾਫ਼ ਹੈ ਤਾਂ ਆਪਣੇ ਆਪ ਨੂੰ ਫਾਈਲ ਵਿੱਚ ਸ਼ਾਮਲ ਕਰੋ।', 'ਇਹ ਐਕਸੀਕਿਊਟੇਬਲ ਫਾਈਲ ਦੇ ਸਾਹਮਣੇ, ਮੱਧ ਜਾਂ ਅੰਤ ਵਿੱਚ ਜੋਡ਼ ਸਕਦਾ ਹੈ ਇਸ ਤਰ੍ਹਾਂ ਫਾਈਲ ਦਾ ਆਕਾਰ ਬਦਲ ਸਕਦਾ ਹੈ।', 'ਇਹ ਵੀ ਕਾਰਨ ਹੈ ਕਿ ਪਿਛਲੇ ਸਾਲਾਂ ਵਿੱਚ ਨਵੇਂ ਬਣਾਏ ਗਏ ਵਾਇਰਸਾਂ ਦੀ ਗਿਣਤੀ ਵਿੱਚ ਕਮੀ ਆਈ ਹੈ, ਐਂਟੀਵਾਇਰਸ ਵਿੱਚ ਵੱਖ-ਵੱਖ ਸਮੇਂ ਵਿੱਚ ਫਾਈਲਾਂ ਦੇ ਆਕਾਰ-ਚੈੱਕਮ ਦੀ \"ਜਾਂਚ ਅਤੇ ਤੁਲਨਾ\" ਕਰਨ ਲਈ ਇੱਕ ਬਹੁਤ ਹੀ ਅਸਾਨ ਵਿਧੀ ਹੈ ਅਤੇ ਇੱਕ ਫਾਈਲ ਪਿਛਲੇ ਸਮੇਂ ਨਾਲੋਂ ਵੱਡੀ ਫਾਈਲ ਲਾਗ ਦਾ ਸੰਕੇਤ ਹੈ।', 'ਵਾਇਰਸਾਂ ਦੀ ਇੱਕ ਵਿਸ਼ੇਸ਼ ਸ਼੍ਰੇਣੀ \"ਬੈਕਟੀਰੀਆ\" ਵਾਇਰਸ ਹਨ, ਉਹ ਆਪਣੇ ਆਪ ਨੂੰ ਇੰਨੀ ਤੇਜ਼ੀ ਨਾਲ ਅਤੇ ਇੰਨੀ ਪ੍ਰਤੀਸ਼ਤਤਾ ਵਿੱਚ ਦੁਹਰਾਉਂਦੇ ਹਨ ਕਿ ਹਾਰਡਡਿਸਕ ਬਹੁਤ ਜਲਦੀ ਖਾਲੀ ਜਗ੍ਹਾ ਤੋਂ ਬਾਹਰ ਹੋ ਜਾਵੇਗਾ।', '- ਇੱਕ ਟਰਿੱਗਰ ਵਾਇਰਸ ਦੇ ਕਿਸੇ ਕੰਮ ਨੂੰ ਸਰਗਰਮ ਕਰਨ ਲਈ ਤਿਆਰ ਕੀਤਾ ਗਿਆ ਹੈ, ਜਿਵੇਂ ਕਿ ਅਜੀਬ ਸੰਦੇਸ਼ ਪ੍ਰਦਰਸ਼ਿਤ ਕਰਨਾ, ਫਾਈਲਾਂ ਨੂੰ ਮਿਟਾਉਣਾ, ਈਮੇਲ ਭੇਜਣਾ, ਪ੍ਰਤੀਕ੍ਰਿਤੀ ਪ੍ਰਕਿਰਿਆ ਸ਼ੁਰੂ ਕਰਨਾ ਜਾਂ ਜੋ ਵੀ ਪ੍ਰੋਗਰਾਮਰ ਆਪਣੇ ਖਤਰਨਾਕ ਕੋਡ ਵਿੱਚ ਲਿਖਦਾ ਹੈ।', 'ਟਰਿੱਗਰ ਕੈਲੰਡਰ ਵਿੱਚ ਇੱਕ ਨਿਸ਼ਚਿਤ ਮਿਤੀ ਹੋ ਸਕਦੀ ਹੈ-ਪਹਿਲਾਂ ਟਾਈਮ ਬੰਬ ਵਜੋਂ ਜਾਣਿਆ ਜਾਂਦਾ ਸੀ, ਉਹ ਸਮਾਂ ਜਦੋਂ ਕੋਈ ਘਟਨਾ ਵਾਪਰਦੀ ਹੈ, ਇੱਕ ਖਾਸ ਪ੍ਰੋਗਰਾਮ ਖੋਲ੍ਹਣਾ ਜਾਂ ਹੋਰ ਉਪਭੋਗਤਾ ਕਾਰਵਾਈਆਂ।', 'ਵਾਇਰਸ ਦੇ ਫੈਲਣ ਲਈ ਟਰਿੱਗਰ ਬਹੁਤ ਮਹੱਤਵਪੂਰਨ ਹੈ, ਕਿਉਂਕਿ ਇੱਕ ਵਾਰ ਸੰਕਰਮਿਤ ਹੋਣ ਤੋਂ ਬਾਅਦ ਉਪਭੋਗਤਾ ਆਪਣੇ ਕੰਪਿਊਟਰ ਵਿੱਚ ਕੁਝ ਵੀ ਅਜੀਬ ਨਹੀਂ ਵੇਖੇਗਾ, ਅਤੇ ਬਿਨਾਂ ਕਿਸੇ ਸ਼ੱਕ ਦੇ ਵਾਇਰਸ ਨੂੰ ਫੈਲਾਉਣਾ ਜਾਰੀ ਰੱਖੇਗਾ।', 'ਲਾਗ ਦੇ ਲੱਛਣਾਂ ਵਿੱਚ ਇਸ ਦੇਰੀ ਦਾ ਇੱਕ ਹੋਰ ਕਾਰਨ ਵਾਇਰਸਾਂ ਦੁਆਰਾ ਆਪਣੇ ਟਰੈਕਾਂ ਨੂੰ ਲੁਕਾਉਣਾ ਹੈ, ਉਪਭੋਗਤਾ ਨੂੰ ਇਹ ਨਹੀਂ ਪਤਾ ਕਿ ਇਹ ਕਦੋਂ ਅਤੇ ਕਿਵੇਂ ਸੰਕਰਮਿਤ ਹੁੰਦਾ ਹੈ।', '- ਕੰਮ ਜਾਂ \"ਪੇਲੋਡ\" ਅਣਉਚਿਤ ਵਿਅਕਤੀਆਂ ਤੋਂ ਵੱਖਰਾ ਹੋ ਸਕਦਾ ਹੈ ਜਿਵੇਂ ਕਿ ਮਜ਼ਾਕ ਸੰਦੇਸ਼ ਪ੍ਰਦਰਸ਼ਿਤ ਕਰਨਾ, ਹੋਸਟ ਫਾਈਲ ਵਰਗੀਆਂ ਮਹੱਤਵਪੂਰਨ ਸਿਸਟਮ ਫਾਈਲਾਂ ਨੂੰ ਮਿਟਾਉਣਾ ਜਾਂ ਸੰਪਾਦਿਤ ਕਰਨਾ, ਰਜਿਸਟਰ ਐਂਟਰੀਆਂ ਨੂੰ ਮਿਟਾਉਣਾ ਜਾਂ ਸੰਪਾਦਿਤ ਕਰਨਾ, ਕਈ ਵਾਰ ਕੰਪਿਊਟਰ ਨੂੰ ਬੂਟ ਕਰਨ ਯੋਗ ਨਹੀਂ ਬਣਾਉਂਦਾ।', 'ਪੋਲੀਮੋਰਫਿਕ ਇੰਜਣਾਂ ਦੀ ਵਰਤੋਂ ਕਰਦੇ ਹੋਏ, ਵਾਇਰਸ ਹਰ ਵਾਰ \"ਵਾਇਰਸ ਦਸਤਖਤ\" ਨੂੰ ਬਦਲਦੇ ਹਨ-ਜਦੋਂ ਉਹ ਇੱਕ ਨਵੇਂ ਕੰਪਿਊਟਰ ਨੂੰ ਸੰਕਰਮਿਤ ਕਰਦੇ ਹਨ ਤਾਂ ਐਂਟੀਵਾਇਰਸ ਲਈ ਰਵਾਇਤੀ \"ਦਸਤਖਤ ਅਧਾਰਤ\" ਸਕੈਨਰਾਂ ਦੀ ਵਰਤੋਂ ਕਰਕੇ ਉਹਨਾਂ ਦਾ ਪਤਾ ਲਗਾਉਣਾ ਬਹੁਤ ਮੁਸ਼ਕਲ ਹੋ ਜਾਂਦਾ ਹੈ।', 'ਮੈਕਰੋ ਵਾਇਰਸ ਆਪਣੇ ਆਪ ਨੂੰ ਆਟੋਪੈਨ, ਆਟੋਕੋਲੋਜ਼, ਆਟੋਐਕਸਾਇਟ ਜਾਂ ਹੋਰ ਫਾਈਲ ਮੈਕਰੋ ਵਿੱਚ ਇੱਕ ਸਪ੍ਰੈਡਸ਼ੀਟ ਦਸਤਾਵੇਜ਼ਾਂ ਦੇ ਚਲਾਉਣ ਯੋਗ ਹਿੱਸੇ ਨਾਲ ਜੋਡ਼ ਸਕਦੇ ਹਨ।', 'ਸ਼ਬਦ ਪ੍ਰੋਸੈਸਰ ਇਨ੍ਹਾਂ ਵਾਇਰਸਾਂ ਤੋਂ ਸਭ ਤੋਂ ਵੱਧ ਪ੍ਰਭਾਵਿਤ ਹੁੰਦੇ ਹਨ, ਇਸ ਲਈ ਕੰਪਿਊਟਰ ਦੀ ਲਾਗ ਨੂੰ ਰੋਕਣ ਲਈ, ਈਮੇਲ ਅਟੈਚਮੈਂਟ ਵਜੋਂ ਪ੍ਰਾਪਤ ਦਸਤਾਵੇਜ਼ਾਂ ਲਈ, ਜਾਂ ਕਿਸੇ ਹੋਰ ਕੰਪਿਊਟਰ ਤੋਂ ਕਿਸੇ ਹੋਰ ਢੰਗ ਨਾਲ ਪ੍ਰਾਪਤ ਦਸਤਾਵੇਜ਼ਾਂ ਲਈ ਹਮੇਸ਼ਾ ਇੱਕ ਐਂਟੀਵਾਇਰਸ ਸਕੈਨ ਕਰੋ।', 'ਕੰਪਿਊਟਰ ਕੀਡ਼ੇ ਵਾਇਰਸਾਂ ਦੀ ਇੱਕ ਵਿਸ਼ੇਸ਼ ਸ਼੍ਰੇਣੀ ਹੈ ਜਿਸ ਵਿੱਚ ਇੱਕ ਬਹੁਤ ਹੀ ਮਹੱਤਵਪੂਰਨ ਵਿਸ਼ੇਸ਼ਤਾ ਸ਼ਾਮਲ ਕੀਤੀ ਗਈ ਹੈਃ ਉਹ ਆਪਣੇ ਆਪ ਨੂੰ ਕੰਪਿਊਟਰਾਂ ਦੇ ਵਿਚਕਾਰ ਫੈਲਾ ਸਕਦੇ ਹਨ, ਉਪਭੋਗਤਾ ਦੀ ਗੱਲਬਾਤ ਤੋਂ ਬਿਨਾਂ, ਨੈਟਵਰਕ ਸ਼ੇਅਰ ਜਾਂ ਰਿਮੋਟ ਫਾਈਲ ਐਗਜ਼ੀਕਿਊਸ਼ਨ ਦੇ ਰੂਪ ਵਿੱਚ ਕੁਝ ਨੈਟਵਰਕ ਕਮਜ਼ੋਰੀਆਂ ਜਾਂ ਸਹੂਲਤਾਂ ਦਾ ਸ਼ੋਸ਼ਣ ਕਰ ਸਕਦੇ ਹਨ।', \"ਕੁੱਝ ਮਾਹਰਾਂ ਦੁਆਰਾ ਵਿੰਡੋਜ਼ ਰਿਮੋਟ ਸਹਾਇਤਾ ਵਿਸ਼ੇਸ਼ਤਾ ਨੂੰ ਅਯੋਗ ਕਰਨ ਦੀ ਸਿਫਾਰਸ਼ ਕੀਤੀ ਜਾਂਦੀ ਹੈ, ਇਸ ਨੂੰ ਸੰਭਾਵਤ ਤੌਰ 'ਤੇ ਅਸੁਰੱਖਿਆ ਦੇ ਰੂਪ ਵਿੱਚ ਵੇਖਿਆ ਜਾਂਦਾ ਹੈ।\", \"ਇੱਕ ਵਾਰ ਜਦੋਂ ਇਹ ਇੱਕ ਕੰਪਿਊਟਰ ਨੂੰ ਸੰਕਰਮਿਤ ਕਰਦਾ ਹੈ ਤਾਂ ਇਹ ਨੈੱਟਵਰਕ-ਲੈਨ ਜਾਂ ਇੰਟਰਨੈਟ ਨਾਲ ਜੁਡ਼ੇ ਹੋਰ ਕੰਪਿਊਟਰਾਂ ਦੀ ਉਮੀਦ ਕਰਦਾ ਹੈ ਜੋ ਸੰਭਵ ਤੌਰ 'ਤੇ ਪੀਡ਼ਤਾਂ ਦੀ ਭਾਲ ਜਾਰੀ ਰੱਖਦੇ ਹਨ।\", '- ਟ੍ਰੋਜਨ ਖਤਰਨਾਕ ਚਲਾਉਣ ਯੋਗ ਫਾਈਲਾਂ ਹਨ, ਜੋ ਲਾਭਕਾਰੀ ਪ੍ਰੋਗਰਾਮਾਂ ਦੇ ਰੂਪ ਵਿੱਚ ਭੇਸ ਵਿੱਚ ਹਨ ਅਤੇ ਉਪਭੋਗਤਾਵਾਂ ਨੂੰ ਆਪਣਾ ਕੋਡ ਚਲਾਉਣ ਲਈ ਧੋਖਾ ਦਿੰਦੀਆਂ ਹਨ।', 'ਬਹੁਤ ਵਾਰ ਉਹ ਸੈੱਟਅੱਪ ਜਾਂ ਇੰਸਟਾਲਰ ਫਾਈਲ ਦੇ ਰੂਪ ਵਿੱਚ ਹੋਰ ਪ੍ਰੋਗਰਾਮਾਂ ਵਿੱਚ ਸ਼ਾਮਲ ਹੁੰਦੇ ਹਨ ਅਤੇ ਫੋਰਮਾਂ ਜਾਂ ਬਲੌਗਾਂ ਵਿੱਚ ਪਾਈਰੇਟਿਡ ਸਾੱਫਟਵੇਅਰ (ਵੇਅਰਜ਼) ਦੇ ਰੂਪ ਵਿੱਚ ਸਾਂਝੇ ਕੀਤੇ ਜਾਂਦੇ ਹਨ, ਇਸ ਲਈ ਜਦੋਂ ਉਪਭੋਗਤਾ ਕਿਸੇ ਪ੍ਰੋਗਰਾਮ ਦੇ ਇੰਸਟਾਲਰ ਨੂੰ ਚਲਾਉਂਦਾ ਹੈ, ਤਾਂ ਟਰੋਜਨ ਕੰਪਿਊਟਰ ਨੂੰ ਸੰਕਰਮਿਤ ਕਰਨ ਲਈ ਸਮਾਨਾਂਤਰ ਰੂਪ ਵਿੱਚ ਚੱਲੇਗਾ।', 'ਇਹ ਇੱਕ ਸਰਵਰ-ਕਲਾਇੰਟ ਸਾੱਫਟਵੇਅਰ ਹੈ ਅਤੇ ਇੱਕ ਵਾਰ ਕੰਪਿਊਟਰ ਨੂੰ ਸੰਕਰਮਿਤ ਕਰਨ ਤੋਂ ਬਾਅਦ, ਇਹ ਹੈਕਰ ਨੂੰ ਦਿੰਦਾ ਹੈ ਜਿੱਥੇ ਇਹ ਕੰਪਿਊਟਰ ਉੱਤੇ ਪੂਰੀ ਸ਼ਕਤੀ ਨੂੰ ਜੋਡ਼ਦਾ ਹੈ।', 'ਹੈਕਰ ਪੀਡ਼ਤ ਕੰਪਿਊਟਰ ਦੇ ਸਕ੍ਰੀਨਸ਼ਾਟ ਦੇਖ ਸਕਦਾ ਹੈ, ਵੈਬਕੈਮ ਨੂੰ ਰੀਅਲ ਟਾਈਮ ਵਿੱਚ ਦੇਖ ਸਕਦਾ ਹੈ, ਫਾਈਲਾਂ ਡਾਊਨਲੋਡ ਅਤੇ ਅਪਲੋਡ ਕਰ ਸਕਦਾ ਹੈ ਜਾਂ ਹੋਰ ਮਾਲਵੇਅਰ ਚਲਾ ਸਕਦਾ ਹੈ।', 'ਉਹ ਅੱਜ-ਕੱਲ੍ਹ ਬਹੁਤ ਹੀ ਆਧੁਨਿਕ ਹਨ ਅਤੇ ਵਿਸ਼ੇਸ਼ ਧਿਆਨ ਦੇਣ ਦੇ ਹੱਕਦਾਰ ਹਨ, ਇਸ ਲਈ ਇਸ ਲੇਖ ਦੇ ਭਾਗ 2 ਵਿੱਚ ਇਸ ਕਿਸਮ ਦੇ ਮਾਲਵੇਅਰ ਦਾ ਵਧੇਰੇ ਵਿਸਤ੍ਰਿਤ ਵੇਰਵਾ ਦਿੱਤਾ ਜਾਵੇਗਾ।', '- ਸਪਾਈਵੇਅਰ ਇੱਕ ਖਤਰਨਾਕ ਕੋਡ ਹੈ ਜੋ ਇੱਕ ਸੰਕਰਮਿਤ ਕੰਪਿਊਟਰ ਤੋਂ ਨਿੱਜੀ ਡੇਟਾ ਇਕੱਠਾ ਕਰਨ ਅਤੇ ਇਸ ਨੂੰ ਹੈਕਰ ਨੂੰ ਭੇਜਣ ਦੇ ਯੋਗ ਹੈ।', 'ਡਾਟਾ ਪਾਸਵਰਡ, ਕ੍ਰੈਡਿਟ ਕਾਰਡ ਨੰਬਰ, ਲੌਗਇਨ ਪ੍ਰਮਾਣ ਪੱਤਰ ਅਤੇ ਹੋਰ ਨਿੱਜੀ ਡੇਟਾ ਹੋ ਸਕਦਾ ਹੈ।', 'ਉਹ ਵੈੱਬ-ਬਰਾਊਜ਼ਰਾਂ, ਕੀਲੌਗਰਾਂ ਜਾਂ ਸਕ੍ਰੀਨਸ਼ਾਟਾਂ ਵਿੱਚ ਪਹਿਲਾਂ ਸੁਰੱਖਿਅਤ ਕੀਤੇ ਗਏ ਪਾਸਵਰਡਾਂ ਨੂੰ ਡੀਕ੍ਰਿਪਟ ਕਰਨ ਲਈ ਵੱਖ-ਵੱਖ ਵਿਧੀਆਂ ਦੀ ਵਰਤੋਂ ਕਰਕੇ ਆਪਣੇ ਮਿਸ਼ਨ ਨੂੰ ਪੂਰਾ ਕਰਦੇ ਹਨ।', 'ਕੰਪਿਊਟਰ ਉਪਭੋਗਤਾ \"ਜਾਅਲੀ ਐਂਟੀਵਾਇਰਸ\" ਜਾਂ \"ਰਜਿਸਟਰ ਕਲੀਨਰ\" ਡਾਊਨਲੋਡ ਕਰਕੇ ਅਤੇ ਚਲਾ ਕੇ ਜਾਂ ਖਤਰਨਾਕ ਸਾਈਟਾਂ \\'ਤੇ ਜਾ ਕੇ ਕਈ ਤਰੀਕਿਆਂ ਨਾਲ ਸਪਾਈਵੇਅਰ ਦੁਆਰਾ ਸੰਕਰਮਿਤ ਹੋ ਜਾਂਦਾ ਹੈ।']}\n"
     ]
    }
   ],
   "source": [
    "result = preprocess(test_text)\n",
    "print(result.keys())\n",
    "result = translate(result)\n",
    "print(result)\n",
    "result = postprocess(result)\n",
    "print(result)"
   ]
  },
  {
   "cell_type": "code",
   "execution_count": null,
   "metadata": {},
   "outputs": [],
   "source": []
  },
  {
   "cell_type": "code",
   "execution_count": null,
   "metadata": {},
   "outputs": [],
   "source": []
  },
  {
   "cell_type": "code",
   "execution_count": 8,
   "metadata": {},
   "outputs": [],
   "source": [
    "# from datatrove.pipeline.readers import ParquetReader\n",
    "# from datatrove.pipeline.stats import MetricStatsDict\n",
    "\n",
    "# from tqdm import tqdm\n",
    "# data_reader = ParquetReader(\"hf://datasets/HuggingFaceFW/fineweb-edu\", glob_pattern=\"data/CC-MAIN-2023-50/train-00000-of-00030.parquet\", progress=True)\n",
    "\n",
    "# for document in tqdm(data_reader()):\n",
    "#     # do something with document\n",
    "#     print(document)\n",
    "#     pass\n",
    "    "
   ]
  },
  {
   "cell_type": "code",
   "execution_count": null,
   "metadata": {},
   "outputs": [],
   "source": [
    "warij54681@cutxsew.com\n",
    "a1B2c3@1\n",
    "\n",
    "Using Datadog\n",
    "\n",
    "Host: http-intake.logs.us5.datadoghq.com\n",
    "\n",
    "API Key: bb3e3b2d6f01835e761c92d1e8c7a935\n",
    "\n"
   ]
  },
  {
   "cell_type": "code",
   "execution_count": null,
   "metadata": {},
   "outputs": [],
   "source": []
  },
  {
   "cell_type": "code",
   "execution_count": null,
   "metadata": {},
   "outputs": [],
   "source": []
  },
  {
   "cell_type": "code",
   "execution_count": 66,
   "metadata": {},
   "outputs": [
    {
     "data": {
      "text/plain": [
       "[{}, {}, {}, {}]"
      ]
     },
     "execution_count": 66,
     "metadata": {},
     "output_type": "execute_result"
    }
   ],
   "source": [
    "[{}] * 4"
   ]
  },
  {
   "cell_type": "code",
   "execution_count": null,
   "metadata": {},
   "outputs": [],
   "source": []
  },
  {
   "cell_type": "code",
   "execution_count": null,
   "metadata": {},
   "outputs": [],
   "source": []
  },
  {
   "cell_type": "code",
   "execution_count": 7,
   "metadata": {},
   "outputs": [
    {
     "ename": "KeyboardInterrupt",
     "evalue": "",
     "output_type": "error",
     "traceback": [
      "\u001b[0;31m---------------------------------------------------------------------------\u001b[0m",
      "\u001b[0;31mKeyboardInterrupt\u001b[0m                         Traceback (most recent call last)",
      "Cell \u001b[0;32mIn[7], line 5\u001b[0m\n\u001b[1;32m      2\u001b[0m BASE_URL \u001b[38;5;241m=\u001b[39m \u001b[38;5;124m'\u001b[39m\u001b[38;5;124mhttp://[::1]:5003\u001b[39m\u001b[38;5;124m'\u001b[39m\n\u001b[1;32m      3\u001b[0m BASE_URL \u001b[38;5;241m=\u001b[39m \u001b[38;5;124m'\u001b[39m\u001b[38;5;124mhttp://127.0.0.1:5003\u001b[39m\u001b[38;5;124m'\u001b[39m\n\u001b[0;32m----> 5\u001b[0m response \u001b[38;5;241m=\u001b[39m \u001b[43mrequests\u001b[49m\u001b[38;5;241;43m.\u001b[39;49m\u001b[43mget\u001b[49m\u001b[43m(\u001b[49m\u001b[38;5;124;43mf\u001b[39;49m\u001b[38;5;124;43m'\u001b[39;49m\u001b[38;5;132;43;01m{\u001b[39;49;00m\u001b[43mBASE_URL\u001b[49m\u001b[38;5;132;43;01m}\u001b[39;49;00m\u001b[38;5;124;43m/hc\u001b[39;49m\u001b[38;5;124;43m'\u001b[39;49m\u001b[43m)\u001b[49m\n\u001b[1;32m      6\u001b[0m \u001b[38;5;28mprint\u001b[39m(response, response\u001b[38;5;241m.\u001b[39mtext)\n",
      "File \u001b[0;32m~/anaconda3/envs/translate-env/lib/python3.10/site-packages/requests/api.py:73\u001b[0m, in \u001b[0;36mget\u001b[0;34m(url, params, **kwargs)\u001b[0m\n\u001b[1;32m     62\u001b[0m \u001b[38;5;28;01mdef\u001b[39;00m \u001b[38;5;21mget\u001b[39m(url, params\u001b[38;5;241m=\u001b[39m\u001b[38;5;28;01mNone\u001b[39;00m, \u001b[38;5;241m*\u001b[39m\u001b[38;5;241m*\u001b[39mkwargs):\n\u001b[1;32m     63\u001b[0m \u001b[38;5;250m    \u001b[39m\u001b[38;5;124mr\u001b[39m\u001b[38;5;124;03m\"\"\"Sends a GET request.\u001b[39;00m\n\u001b[1;32m     64\u001b[0m \n\u001b[1;32m     65\u001b[0m \u001b[38;5;124;03m    :param url: URL for the new :class:`Request` object.\u001b[39;00m\n\u001b[0;32m   (...)\u001b[0m\n\u001b[1;32m     70\u001b[0m \u001b[38;5;124;03m    :rtype: requests.Response\u001b[39;00m\n\u001b[1;32m     71\u001b[0m \u001b[38;5;124;03m    \"\"\"\u001b[39;00m\n\u001b[0;32m---> 73\u001b[0m     \u001b[38;5;28;01mreturn\u001b[39;00m \u001b[43mrequest\u001b[49m\u001b[43m(\u001b[49m\u001b[38;5;124;43m\"\u001b[39;49m\u001b[38;5;124;43mget\u001b[39;49m\u001b[38;5;124;43m\"\u001b[39;49m\u001b[43m,\u001b[49m\u001b[43m \u001b[49m\u001b[43murl\u001b[49m\u001b[43m,\u001b[49m\u001b[43m \u001b[49m\u001b[43mparams\u001b[49m\u001b[38;5;241;43m=\u001b[39;49m\u001b[43mparams\u001b[49m\u001b[43m,\u001b[49m\u001b[43m \u001b[49m\u001b[38;5;241;43m*\u001b[39;49m\u001b[38;5;241;43m*\u001b[39;49m\u001b[43mkwargs\u001b[49m\u001b[43m)\u001b[49m\n",
      "File \u001b[0;32m~/anaconda3/envs/translate-env/lib/python3.10/site-packages/requests/api.py:59\u001b[0m, in \u001b[0;36mrequest\u001b[0;34m(method, url, **kwargs)\u001b[0m\n\u001b[1;32m     55\u001b[0m \u001b[38;5;66;03m# By using the 'with' statement we are sure the session is closed, thus we\u001b[39;00m\n\u001b[1;32m     56\u001b[0m \u001b[38;5;66;03m# avoid leaving sockets open which can trigger a ResourceWarning in some\u001b[39;00m\n\u001b[1;32m     57\u001b[0m \u001b[38;5;66;03m# cases, and look like a memory leak in others.\u001b[39;00m\n\u001b[1;32m     58\u001b[0m \u001b[38;5;28;01mwith\u001b[39;00m sessions\u001b[38;5;241m.\u001b[39mSession() \u001b[38;5;28;01mas\u001b[39;00m session:\n\u001b[0;32m---> 59\u001b[0m     \u001b[38;5;28;01mreturn\u001b[39;00m \u001b[43msession\u001b[49m\u001b[38;5;241;43m.\u001b[39;49m\u001b[43mrequest\u001b[49m\u001b[43m(\u001b[49m\u001b[43mmethod\u001b[49m\u001b[38;5;241;43m=\u001b[39;49m\u001b[43mmethod\u001b[49m\u001b[43m,\u001b[49m\u001b[43m \u001b[49m\u001b[43murl\u001b[49m\u001b[38;5;241;43m=\u001b[39;49m\u001b[43murl\u001b[49m\u001b[43m,\u001b[49m\u001b[43m \u001b[49m\u001b[38;5;241;43m*\u001b[39;49m\u001b[38;5;241;43m*\u001b[39;49m\u001b[43mkwargs\u001b[49m\u001b[43m)\u001b[49m\n",
      "File \u001b[0;32m~/anaconda3/envs/translate-env/lib/python3.10/site-packages/requests/sessions.py:589\u001b[0m, in \u001b[0;36mSession.request\u001b[0;34m(self, method, url, params, data, headers, cookies, files, auth, timeout, allow_redirects, proxies, hooks, stream, verify, cert, json)\u001b[0m\n\u001b[1;32m    584\u001b[0m send_kwargs \u001b[38;5;241m=\u001b[39m {\n\u001b[1;32m    585\u001b[0m     \u001b[38;5;124m\"\u001b[39m\u001b[38;5;124mtimeout\u001b[39m\u001b[38;5;124m\"\u001b[39m: timeout,\n\u001b[1;32m    586\u001b[0m     \u001b[38;5;124m\"\u001b[39m\u001b[38;5;124mallow_redirects\u001b[39m\u001b[38;5;124m\"\u001b[39m: allow_redirects,\n\u001b[1;32m    587\u001b[0m }\n\u001b[1;32m    588\u001b[0m send_kwargs\u001b[38;5;241m.\u001b[39mupdate(settings)\n\u001b[0;32m--> 589\u001b[0m resp \u001b[38;5;241m=\u001b[39m \u001b[38;5;28;43mself\u001b[39;49m\u001b[38;5;241;43m.\u001b[39;49m\u001b[43msend\u001b[49m\u001b[43m(\u001b[49m\u001b[43mprep\u001b[49m\u001b[43m,\u001b[49m\u001b[43m \u001b[49m\u001b[38;5;241;43m*\u001b[39;49m\u001b[38;5;241;43m*\u001b[39;49m\u001b[43msend_kwargs\u001b[49m\u001b[43m)\u001b[49m\n\u001b[1;32m    591\u001b[0m \u001b[38;5;28;01mreturn\u001b[39;00m resp\n",
      "File \u001b[0;32m~/anaconda3/envs/translate-env/lib/python3.10/site-packages/requests/sessions.py:703\u001b[0m, in \u001b[0;36mSession.send\u001b[0;34m(self, request, **kwargs)\u001b[0m\n\u001b[1;32m    700\u001b[0m start \u001b[38;5;241m=\u001b[39m preferred_clock()\n\u001b[1;32m    702\u001b[0m \u001b[38;5;66;03m# Send the request\u001b[39;00m\n\u001b[0;32m--> 703\u001b[0m r \u001b[38;5;241m=\u001b[39m \u001b[43madapter\u001b[49m\u001b[38;5;241;43m.\u001b[39;49m\u001b[43msend\u001b[49m\u001b[43m(\u001b[49m\u001b[43mrequest\u001b[49m\u001b[43m,\u001b[49m\u001b[43m \u001b[49m\u001b[38;5;241;43m*\u001b[39;49m\u001b[38;5;241;43m*\u001b[39;49m\u001b[43mkwargs\u001b[49m\u001b[43m)\u001b[49m\n\u001b[1;32m    705\u001b[0m \u001b[38;5;66;03m# Total elapsed time of the request (approximately)\u001b[39;00m\n\u001b[1;32m    706\u001b[0m elapsed \u001b[38;5;241m=\u001b[39m preferred_clock() \u001b[38;5;241m-\u001b[39m start\n",
      "File \u001b[0;32m~/anaconda3/envs/translate-env/lib/python3.10/site-packages/requests/adapters.py:486\u001b[0m, in \u001b[0;36mHTTPAdapter.send\u001b[0;34m(self, request, stream, timeout, verify, cert, proxies)\u001b[0m\n\u001b[1;32m    483\u001b[0m     timeout \u001b[38;5;241m=\u001b[39m TimeoutSauce(connect\u001b[38;5;241m=\u001b[39mtimeout, read\u001b[38;5;241m=\u001b[39mtimeout)\n\u001b[1;32m    485\u001b[0m \u001b[38;5;28;01mtry\u001b[39;00m:\n\u001b[0;32m--> 486\u001b[0m     resp \u001b[38;5;241m=\u001b[39m \u001b[43mconn\u001b[49m\u001b[38;5;241;43m.\u001b[39;49m\u001b[43murlopen\u001b[49m\u001b[43m(\u001b[49m\n\u001b[1;32m    487\u001b[0m \u001b[43m        \u001b[49m\u001b[43mmethod\u001b[49m\u001b[38;5;241;43m=\u001b[39;49m\u001b[43mrequest\u001b[49m\u001b[38;5;241;43m.\u001b[39;49m\u001b[43mmethod\u001b[49m\u001b[43m,\u001b[49m\n\u001b[1;32m    488\u001b[0m \u001b[43m        \u001b[49m\u001b[43murl\u001b[49m\u001b[38;5;241;43m=\u001b[39;49m\u001b[43murl\u001b[49m\u001b[43m,\u001b[49m\n\u001b[1;32m    489\u001b[0m \u001b[43m        \u001b[49m\u001b[43mbody\u001b[49m\u001b[38;5;241;43m=\u001b[39;49m\u001b[43mrequest\u001b[49m\u001b[38;5;241;43m.\u001b[39;49m\u001b[43mbody\u001b[49m\u001b[43m,\u001b[49m\n\u001b[1;32m    490\u001b[0m \u001b[43m        \u001b[49m\u001b[43mheaders\u001b[49m\u001b[38;5;241;43m=\u001b[39;49m\u001b[43mrequest\u001b[49m\u001b[38;5;241;43m.\u001b[39;49m\u001b[43mheaders\u001b[49m\u001b[43m,\u001b[49m\n\u001b[1;32m    491\u001b[0m \u001b[43m        \u001b[49m\u001b[43mredirect\u001b[49m\u001b[38;5;241;43m=\u001b[39;49m\u001b[38;5;28;43;01mFalse\u001b[39;49;00m\u001b[43m,\u001b[49m\n\u001b[1;32m    492\u001b[0m \u001b[43m        \u001b[49m\u001b[43massert_same_host\u001b[49m\u001b[38;5;241;43m=\u001b[39;49m\u001b[38;5;28;43;01mFalse\u001b[39;49;00m\u001b[43m,\u001b[49m\n\u001b[1;32m    493\u001b[0m \u001b[43m        \u001b[49m\u001b[43mpreload_content\u001b[49m\u001b[38;5;241;43m=\u001b[39;49m\u001b[38;5;28;43;01mFalse\u001b[39;49;00m\u001b[43m,\u001b[49m\n\u001b[1;32m    494\u001b[0m \u001b[43m        \u001b[49m\u001b[43mdecode_content\u001b[49m\u001b[38;5;241;43m=\u001b[39;49m\u001b[38;5;28;43;01mFalse\u001b[39;49;00m\u001b[43m,\u001b[49m\n\u001b[1;32m    495\u001b[0m \u001b[43m        \u001b[49m\u001b[43mretries\u001b[49m\u001b[38;5;241;43m=\u001b[39;49m\u001b[38;5;28;43mself\u001b[39;49m\u001b[38;5;241;43m.\u001b[39;49m\u001b[43mmax_retries\u001b[49m\u001b[43m,\u001b[49m\n\u001b[1;32m    496\u001b[0m \u001b[43m        \u001b[49m\u001b[43mtimeout\u001b[49m\u001b[38;5;241;43m=\u001b[39;49m\u001b[43mtimeout\u001b[49m\u001b[43m,\u001b[49m\n\u001b[1;32m    497\u001b[0m \u001b[43m        \u001b[49m\u001b[43mchunked\u001b[49m\u001b[38;5;241;43m=\u001b[39;49m\u001b[43mchunked\u001b[49m\u001b[43m,\u001b[49m\n\u001b[1;32m    498\u001b[0m \u001b[43m    \u001b[49m\u001b[43m)\u001b[49m\n\u001b[1;32m    500\u001b[0m \u001b[38;5;28;01mexcept\u001b[39;00m (ProtocolError, \u001b[38;5;167;01mOSError\u001b[39;00m) \u001b[38;5;28;01mas\u001b[39;00m err:\n\u001b[1;32m    501\u001b[0m     \u001b[38;5;28;01mraise\u001b[39;00m \u001b[38;5;167;01mConnectionError\u001b[39;00m(err, request\u001b[38;5;241m=\u001b[39mrequest)\n",
      "File \u001b[0;32m~/anaconda3/envs/translate-env/lib/python3.10/site-packages/urllib3/connectionpool.py:793\u001b[0m, in \u001b[0;36mHTTPConnectionPool.urlopen\u001b[0;34m(self, method, url, body, headers, retries, redirect, assert_same_host, timeout, pool_timeout, release_conn, chunked, body_pos, preload_content, decode_content, **response_kw)\u001b[0m\n\u001b[1;32m    790\u001b[0m response_conn \u001b[38;5;241m=\u001b[39m conn \u001b[38;5;28;01mif\u001b[39;00m \u001b[38;5;129;01mnot\u001b[39;00m release_conn \u001b[38;5;28;01melse\u001b[39;00m \u001b[38;5;28;01mNone\u001b[39;00m\n\u001b[1;32m    792\u001b[0m \u001b[38;5;66;03m# Make the request on the HTTPConnection object\u001b[39;00m\n\u001b[0;32m--> 793\u001b[0m response \u001b[38;5;241m=\u001b[39m \u001b[38;5;28;43mself\u001b[39;49m\u001b[38;5;241;43m.\u001b[39;49m\u001b[43m_make_request\u001b[49m\u001b[43m(\u001b[49m\n\u001b[1;32m    794\u001b[0m \u001b[43m    \u001b[49m\u001b[43mconn\u001b[49m\u001b[43m,\u001b[49m\n\u001b[1;32m    795\u001b[0m \u001b[43m    \u001b[49m\u001b[43mmethod\u001b[49m\u001b[43m,\u001b[49m\n\u001b[1;32m    796\u001b[0m \u001b[43m    \u001b[49m\u001b[43murl\u001b[49m\u001b[43m,\u001b[49m\n\u001b[1;32m    797\u001b[0m \u001b[43m    \u001b[49m\u001b[43mtimeout\u001b[49m\u001b[38;5;241;43m=\u001b[39;49m\u001b[43mtimeout_obj\u001b[49m\u001b[43m,\u001b[49m\n\u001b[1;32m    798\u001b[0m \u001b[43m    \u001b[49m\u001b[43mbody\u001b[49m\u001b[38;5;241;43m=\u001b[39;49m\u001b[43mbody\u001b[49m\u001b[43m,\u001b[49m\n\u001b[1;32m    799\u001b[0m \u001b[43m    \u001b[49m\u001b[43mheaders\u001b[49m\u001b[38;5;241;43m=\u001b[39;49m\u001b[43mheaders\u001b[49m\u001b[43m,\u001b[49m\n\u001b[1;32m    800\u001b[0m \u001b[43m    \u001b[49m\u001b[43mchunked\u001b[49m\u001b[38;5;241;43m=\u001b[39;49m\u001b[43mchunked\u001b[49m\u001b[43m,\u001b[49m\n\u001b[1;32m    801\u001b[0m \u001b[43m    \u001b[49m\u001b[43mretries\u001b[49m\u001b[38;5;241;43m=\u001b[39;49m\u001b[43mretries\u001b[49m\u001b[43m,\u001b[49m\n\u001b[1;32m    802\u001b[0m \u001b[43m    \u001b[49m\u001b[43mresponse_conn\u001b[49m\u001b[38;5;241;43m=\u001b[39;49m\u001b[43mresponse_conn\u001b[49m\u001b[43m,\u001b[49m\n\u001b[1;32m    803\u001b[0m \u001b[43m    \u001b[49m\u001b[43mpreload_content\u001b[49m\u001b[38;5;241;43m=\u001b[39;49m\u001b[43mpreload_content\u001b[49m\u001b[43m,\u001b[49m\n\u001b[1;32m    804\u001b[0m \u001b[43m    \u001b[49m\u001b[43mdecode_content\u001b[49m\u001b[38;5;241;43m=\u001b[39;49m\u001b[43mdecode_content\u001b[49m\u001b[43m,\u001b[49m\n\u001b[1;32m    805\u001b[0m \u001b[43m    \u001b[49m\u001b[38;5;241;43m*\u001b[39;49m\u001b[38;5;241;43m*\u001b[39;49m\u001b[43mresponse_kw\u001b[49m\u001b[43m,\u001b[49m\n\u001b[1;32m    806\u001b[0m \u001b[43m\u001b[49m\u001b[43m)\u001b[49m\n\u001b[1;32m    808\u001b[0m \u001b[38;5;66;03m# Everything went great!\u001b[39;00m\n\u001b[1;32m    809\u001b[0m clean_exit \u001b[38;5;241m=\u001b[39m \u001b[38;5;28;01mTrue\u001b[39;00m\n",
      "File \u001b[0;32m~/anaconda3/envs/translate-env/lib/python3.10/site-packages/urllib3/connectionpool.py:537\u001b[0m, in \u001b[0;36mHTTPConnectionPool._make_request\u001b[0;34m(self, conn, method, url, body, headers, retries, timeout, chunked, response_conn, preload_content, decode_content, enforce_content_length)\u001b[0m\n\u001b[1;32m    535\u001b[0m \u001b[38;5;66;03m# Receive the response from the server\u001b[39;00m\n\u001b[1;32m    536\u001b[0m \u001b[38;5;28;01mtry\u001b[39;00m:\n\u001b[0;32m--> 537\u001b[0m     response \u001b[38;5;241m=\u001b[39m \u001b[43mconn\u001b[49m\u001b[38;5;241;43m.\u001b[39;49m\u001b[43mgetresponse\u001b[49m\u001b[43m(\u001b[49m\u001b[43m)\u001b[49m\n\u001b[1;32m    538\u001b[0m \u001b[38;5;28;01mexcept\u001b[39;00m (BaseSSLError, \u001b[38;5;167;01mOSError\u001b[39;00m) \u001b[38;5;28;01mas\u001b[39;00m e:\n\u001b[1;32m    539\u001b[0m     \u001b[38;5;28mself\u001b[39m\u001b[38;5;241m.\u001b[39m_raise_timeout(err\u001b[38;5;241m=\u001b[39me, url\u001b[38;5;241m=\u001b[39murl, timeout_value\u001b[38;5;241m=\u001b[39mread_timeout)\n",
      "File \u001b[0;32m~/anaconda3/envs/translate-env/lib/python3.10/site-packages/urllib3/connection.py:466\u001b[0m, in \u001b[0;36mHTTPConnection.getresponse\u001b[0;34m(self)\u001b[0m\n\u001b[1;32m    463\u001b[0m \u001b[38;5;28;01mfrom\u001b[39;00m \u001b[38;5;21;01m.\u001b[39;00m\u001b[38;5;21;01mresponse\u001b[39;00m \u001b[38;5;28;01mimport\u001b[39;00m HTTPResponse\n\u001b[1;32m    465\u001b[0m \u001b[38;5;66;03m# Get the response from http.client.HTTPConnection\u001b[39;00m\n\u001b[0;32m--> 466\u001b[0m httplib_response \u001b[38;5;241m=\u001b[39m \u001b[38;5;28;43msuper\u001b[39;49m\u001b[43m(\u001b[49m\u001b[43m)\u001b[49m\u001b[38;5;241;43m.\u001b[39;49m\u001b[43mgetresponse\u001b[49m\u001b[43m(\u001b[49m\u001b[43m)\u001b[49m\n\u001b[1;32m    468\u001b[0m \u001b[38;5;28;01mtry\u001b[39;00m:\n\u001b[1;32m    469\u001b[0m     assert_header_parsing(httplib_response\u001b[38;5;241m.\u001b[39mmsg)\n",
      "File \u001b[0;32m~/anaconda3/envs/translate-env/lib/python3.10/http/client.py:1375\u001b[0m, in \u001b[0;36mHTTPConnection.getresponse\u001b[0;34m(self)\u001b[0m\n\u001b[1;32m   1373\u001b[0m \u001b[38;5;28;01mtry\u001b[39;00m:\n\u001b[1;32m   1374\u001b[0m     \u001b[38;5;28;01mtry\u001b[39;00m:\n\u001b[0;32m-> 1375\u001b[0m         \u001b[43mresponse\u001b[49m\u001b[38;5;241;43m.\u001b[39;49m\u001b[43mbegin\u001b[49m\u001b[43m(\u001b[49m\u001b[43m)\u001b[49m\n\u001b[1;32m   1376\u001b[0m     \u001b[38;5;28;01mexcept\u001b[39;00m \u001b[38;5;167;01mConnectionError\u001b[39;00m:\n\u001b[1;32m   1377\u001b[0m         \u001b[38;5;28mself\u001b[39m\u001b[38;5;241m.\u001b[39mclose()\n",
      "File \u001b[0;32m~/anaconda3/envs/translate-env/lib/python3.10/http/client.py:318\u001b[0m, in \u001b[0;36mHTTPResponse.begin\u001b[0;34m(self)\u001b[0m\n\u001b[1;32m    316\u001b[0m \u001b[38;5;66;03m# read until we get a non-100 response\u001b[39;00m\n\u001b[1;32m    317\u001b[0m \u001b[38;5;28;01mwhile\u001b[39;00m \u001b[38;5;28;01mTrue\u001b[39;00m:\n\u001b[0;32m--> 318\u001b[0m     version, status, reason \u001b[38;5;241m=\u001b[39m \u001b[38;5;28;43mself\u001b[39;49m\u001b[38;5;241;43m.\u001b[39;49m\u001b[43m_read_status\u001b[49m\u001b[43m(\u001b[49m\u001b[43m)\u001b[49m\n\u001b[1;32m    319\u001b[0m     \u001b[38;5;28;01mif\u001b[39;00m status \u001b[38;5;241m!=\u001b[39m CONTINUE:\n\u001b[1;32m    320\u001b[0m         \u001b[38;5;28;01mbreak\u001b[39;00m\n",
      "File \u001b[0;32m~/anaconda3/envs/translate-env/lib/python3.10/http/client.py:279\u001b[0m, in \u001b[0;36mHTTPResponse._read_status\u001b[0;34m(self)\u001b[0m\n\u001b[1;32m    278\u001b[0m \u001b[38;5;28;01mdef\u001b[39;00m \u001b[38;5;21m_read_status\u001b[39m(\u001b[38;5;28mself\u001b[39m):\n\u001b[0;32m--> 279\u001b[0m     line \u001b[38;5;241m=\u001b[39m \u001b[38;5;28mstr\u001b[39m(\u001b[38;5;28;43mself\u001b[39;49m\u001b[38;5;241;43m.\u001b[39;49m\u001b[43mfp\u001b[49m\u001b[38;5;241;43m.\u001b[39;49m\u001b[43mreadline\u001b[49m\u001b[43m(\u001b[49m\u001b[43m_MAXLINE\u001b[49m\u001b[43m \u001b[49m\u001b[38;5;241;43m+\u001b[39;49m\u001b[43m \u001b[49m\u001b[38;5;241;43m1\u001b[39;49m\u001b[43m)\u001b[49m, \u001b[38;5;124m\"\u001b[39m\u001b[38;5;124miso-8859-1\u001b[39m\u001b[38;5;124m\"\u001b[39m)\n\u001b[1;32m    280\u001b[0m     \u001b[38;5;28;01mif\u001b[39;00m \u001b[38;5;28mlen\u001b[39m(line) \u001b[38;5;241m>\u001b[39m _MAXLINE:\n\u001b[1;32m    281\u001b[0m         \u001b[38;5;28;01mraise\u001b[39;00m LineTooLong(\u001b[38;5;124m\"\u001b[39m\u001b[38;5;124mstatus line\u001b[39m\u001b[38;5;124m\"\u001b[39m)\n",
      "File \u001b[0;32m~/anaconda3/envs/translate-env/lib/python3.10/socket.py:705\u001b[0m, in \u001b[0;36mSocketIO.readinto\u001b[0;34m(self, b)\u001b[0m\n\u001b[1;32m    703\u001b[0m \u001b[38;5;28;01mwhile\u001b[39;00m \u001b[38;5;28;01mTrue\u001b[39;00m:\n\u001b[1;32m    704\u001b[0m     \u001b[38;5;28;01mtry\u001b[39;00m:\n\u001b[0;32m--> 705\u001b[0m         \u001b[38;5;28;01mreturn\u001b[39;00m \u001b[38;5;28;43mself\u001b[39;49m\u001b[38;5;241;43m.\u001b[39;49m\u001b[43m_sock\u001b[49m\u001b[38;5;241;43m.\u001b[39;49m\u001b[43mrecv_into\u001b[49m\u001b[43m(\u001b[49m\u001b[43mb\u001b[49m\u001b[43m)\u001b[49m\n\u001b[1;32m    706\u001b[0m     \u001b[38;5;28;01mexcept\u001b[39;00m timeout:\n\u001b[1;32m    707\u001b[0m         \u001b[38;5;28mself\u001b[39m\u001b[38;5;241m.\u001b[39m_timeout_occurred \u001b[38;5;241m=\u001b[39m \u001b[38;5;28;01mTrue\u001b[39;00m\n",
      "\u001b[0;31mKeyboardInterrupt\u001b[0m: "
     ]
    }
   ],
   "source": [
    "import requests\n",
    "BASE_URL = 'http://[::1]:5003'\n",
    "BASE_URL = 'http://127.0.0.1:5003'\n",
    "\n",
    "response = requests.get(f'{BASE_URL}/hc')\n",
    "print(response, response.text)\n",
    "\n"
   ]
  },
  {
   "cell_type": "code",
   "execution_count": null,
   "metadata": {},
   "outputs": [],
   "source": []
  },
  {
   "cell_type": "code",
   "execution_count": 10,
   "metadata": {},
   "outputs": [
    {
     "name": "stdout",
     "output_type": "stream",
     "text": [
      "<Response [201]> {\"id\":\"98093309-9ebe-425f-ad39-10001e822a41\",\"input\":{\"data\":{\"data_folder\":\"hf://datasets/codingninja/fineweb-edu\",\"glob_pattern\":\"data/train-00001-of-00603.parquet\"}},\"metadata\":{\"id\":\"data/train-00001-of-00603.parquet\"},\"status\":\"pending\",\"events\":[{\"action\":\"created\",\"time\":\"2024-07-10T00:52:07.4572763+00:00\"}],\"create_time\":\"2024-07-10T00:52:07.4572763+00:00\",\"update_time\":\"2024-07-10T00:52:07.4572763+00:00\"}\n"
     ]
    }
   ],
   "source": [
    "import requests\n",
    "BASE_URL = 'https://api.salad.com/api/public/organizations/cyborm/projects/akhar/queues/translate/jobs'\n",
    "\n",
    "\n",
    "api_key = '4dfbff69-2713-41fb-a452-1ff1e1d8cb41'\n",
    "file = \"data/train-00001-of-00603.parquet\"\n",
    "json = {\"input\": {'data': {'data_folder': \"hf://datasets/codingninja/fineweb-edu\",\n",
    "                           'glob_pattern': file}, },\n",
    "        \"metadata\": {\"id\": file}}\n",
    "response = requests.post(f'{BASE_URL}', json=json, headers={\n",
    "                         'Salad-Api-Key': api_key})\n",
    "print(response, response.text)"
   ]
  },
  {
   "cell_type": "code",
   "execution_count": 1,
   "metadata": {},
   "outputs": [
    {
     "name": "stdout",
     "output_type": "stream",
     "text": [
      "<Response [201]> {\"id\":\"10c78395-d668-4a14-9043-d78506ceb960\",\"input\":{\"data\":{\"data_folder\":\"hf://datasets/codingninja/fineweb-edu\",\"glob_pattern\":\"data/train-00000-of-00603.parquet\"}},\"metadata\":{\"id\":\"data/train-00000-of-00603.parquet\"},\"status\":\"pending\",\"events\":[{\"action\":\"created\",\"time\":\"2024-07-09T15:09:54.937178+00:00\"}],\"create_time\":\"2024-07-09T15:09:54.937178+00:00\",\"update_time\":\"2024-07-09T15:09:54.937178+00:00\"}\n"
     ]
    }
   ],
   "source": [
    "import requests\n",
    "BASE_URL = 'https://api.salad.com/api/public/organizations/cyborm/projects/akhar/queues/translate-serial/jobs'\n",
    "\n",
    "\n",
    "api_key = '4dfbff69-2713-41fb-a452-1ff1e1d8cb41'\n",
    "file = \"data/train-00000-of-00603.parquet\"\n",
    "json = {\"input\": {'data': {'data_folder': \"hf://datasets/codingninja/fineweb-edu\",\n",
    "                           'glob_pattern': file}, },\n",
    "        \"metadata\": {\"id\": file}}\n",
    "response = requests.post(f'{BASE_URL}', json=json, headers={\n",
    "                         'Salad-Api-Key': api_key})\n",
    "print(response, response.text)"
   ]
  },
  {
   "cell_type": "code",
   "execution_count": null,
   "metadata": {},
   "outputs": [],
   "source": []
  },
  {
   "cell_type": "code",
   "execution_count": null,
   "metadata": {},
   "outputs": [],
   "source": []
  },
  {
   "cell_type": "code",
   "execution_count": 7,
   "metadata": {},
   "outputs": [],
   "source": []
  },
  {
   "cell_type": "code",
   "execution_count": 15,
   "metadata": {},
   "outputs": [
    {
     "name": "stdout",
     "output_type": "stream",
     "text": [
      "[{'action': 'created', 'time': '2024-07-09T15:09:54.937178+00:00'}, {'action': 'started', 'time': '2024-07-09T15:09:55.0283211+00:00'}, {'action': 'failed', 'time': '2024-07-09T15:14:33.5939286+00:00'}, {'action': 'started', 'time': '2024-07-09T15:14:33.7684052+00:00'}, {'action': 'failed', 'time': '2024-07-09T15:54:13.1086908+00:00'}, {'action': 'started', 'time': '2024-07-09T15:54:13.1776824+00:00'}, {'action': 'failed', 'time': '2024-07-09T19:53:02.0144628+00:00'}, {'action': 'started', 'time': '2024-07-09T19:53:02.1886962+00:00'}, {'action': 'failed', 'time': '2024-07-10T17:09:53.2128618+00:00'}]\n",
      "-----------------------------------\n",
      "[{'action': 'created', 'time': '2024-07-10T00:50:35.0532407+00:00'}, {'action': 'started', 'time': '2024-07-10T00:50:35.2203516+00:00'}, {'action': 'failed', 'time': '2024-07-10T02:42:58.1782138+00:00'}, {'action': 'started', 'time': '2024-07-10T02:42:58.2098849+00:00'}, {'action': 'failed', 'time': '2024-07-10T04:44:49.36734+00:00'}, {'action': 'started', 'time': '2024-07-10T04:44:49.4304731+00:00'}, {'action': 'failed', 'time': '2024-07-10T14:05:27.7739747+00:00'}, {'action': 'started', 'time': '2024-07-10T14:05:27.8098242+00:00'}, {'action': 'failed', 'time': '2024-07-10T17:32:33.483044+00:00'}]\n",
      "-----------------------------------\n",
      "[{'action': 'created', 'time': '2024-07-10T00:52:07.4572763+00:00'}, {'action': 'started', 'time': '2024-07-10T00:52:07.5163808+00:00'}, {'action': 'failed', 'time': '2024-07-10T16:59:11.2614915+00:00'}, {'action': 'started', 'time': '2024-07-10T16:59:11.2946192+00:00'}, {'action': 'failed', 'time': '2024-07-10T17:32:33.6585714+00:00'}, {'action': 'started', 'time': '2024-07-10T17:32:33.6915484+00:00'}]\n",
      "-----------------------------------\n"
     ]
    }
   ],
   "source": [
    "import requests\n",
    "import json as jlib\n",
    "\n",
    "task_ids = [\n",
    "    '10c78395-d668-4a14-9043-d78506ceb960'\n",
    "]\n",
    "\n",
    "for t in task_ids:\n",
    "    BASE_URL = f'https://api.salad.com/api/public/organizations/cyborm/projects/akhar/queues/translate-serial/jobs/{t}'\n",
    "    api_key = '4dfbff69-2713-41fb-a452-1ff1e1d8cb41'\n",
    "    json={\"input\": {'data_folder': \"hf://datasets/codingninja/fineweb-edu\",\n",
    "                                'glob_pattern': \"data/train-00000-of-00603.parquet\"},\n",
    "                                \"metadata\": {\"id\": \"data/train-00000-of-00603.parquet\"}}\n",
    "    response = requests.get(f'{BASE_URL}', headers={'Salad-Api-Key': api_key})\n",
    "    j = jlib.loads(response.text)\n",
    "    print(j['events'])\n",
    "    print('-----------------------------------')\n",
    "\n",
    "\n",
    "\n",
    "\n",
    "import requests\n",
    "import json as jlib\n",
    "\n",
    "task_ids = [\n",
    "    '32a14f44-60fb-4d32-8caa-2f6837de268f',\n",
    "    '98093309-9ebe-425f-ad39-10001e822a41'\n",
    "]\n",
    "\n",
    "for t in task_ids:\n",
    "    BASE_URL = f'https://api.salad.com/api/public/organizations/cyborm/projects/akhar/queues/translate/jobs/{t}'\n",
    "    api_key = '4dfbff69-2713-41fb-a452-1ff1e1d8cb41'\n",
    "    json={\"input\": {'data_folder': \"hf://datasets/codingninja/fineweb-edu\",\n",
    "                                'glob_pattern': \"data/train-00000-of-00603.parquet\"},\n",
    "                                \"metadata\": {\"id\": \"data/train-00000-of-00603.parquet\"}}\n",
    "    response = requests.get(f'{BASE_URL}', headers={'Salad-Api-Key': api_key})\n",
    "    j = jlib.loads(response.text)\n",
    "    print(j['events'])\n",
    "    print('-----------------------------------')"
   ]
  },
  {
   "cell_type": "code",
   "execution_count": 5,
   "metadata": {},
   "outputs": [
    {
     "name": "stdout",
     "output_type": "stream",
     "text": [
      "<Response [404]> {'type': 'https://tools.ietf.org/html/rfc7231#section-6.5.4', 'title': 'Not Found', 'status': 404, 'traceId': '00-70dd8427f8252a5356c855bebb4b0173-daf98b9fe33e49af-01'}\n"
     ]
    }
   ],
   "source": [
    "\n",
    "import requests\n",
    "\n",
    "BASE_URL = 'https://api.salad.com/api/public/organizations/cyborm/projects/akhar/queues/translate/jobs/13cce2ad-64ee-4cd1-9db1-47a93e81e207'\n",
    "\n",
    "\n",
    "api_key = '4dfbff69-2713-41fb-a452-1ff1e1d8cb41'\n",
    "json={\"input\": {'data_folder': \"hf://datasets/codingninja/fineweb-edu\",\n",
    "                            'glob_pattern': \"data/train-00000-of-00603.parquet\"},\n",
    "                            \"metadata\": {\"id\": \"data/train-00000-of-00603.parquet\"}}\n",
    "response = requests.get(f'{BASE_URL}', headers={'Salad-Api-Key': api_key})\n",
    "print(response, jlib.loads(response.text))\n"
   ]
  },
  {
   "cell_type": "code",
   "execution_count": 15,
   "metadata": {},
   "outputs": [
    {
     "name": "stdout",
     "output_type": "stream",
     "text": [
      "<Response [200]> {'id': 'd7c2983f-5151-4652-bf54-e3232c6a42f2', 'name': 'translate', 'display_name': 'translate', 'container_groups': [], 'create_time': '2024-07-03T23:10:29.8988581+00:00', 'update_time': '2024-07-03T23:32:41.5407848+00:00'}\n"
     ]
    }
   ],
   "source": [
    "\n",
    "import requests\n",
    "\n",
    "BASE_URL = 'https://api.salad.com/api/public/organizations/cyborm/projects/akhar/queues/translate'\n",
    "\n",
    "\n",
    "api_key = '4dfbff69-2713-41fb-a452-1ff1e1d8cb41'\n",
    "response = requests.get(f'{BASE_URL}', headers={'Salad-Api-Key': api_key})\n",
    "print(response, jlib.loads(response.text))\n"
   ]
  },
  {
   "cell_type": "code",
   "execution_count": null,
   "metadata": {},
   "outputs": [],
   "source": []
  }
 ],
 "metadata": {
  "kernelspec": {
   "display_name": "ai4bharat",
   "language": "python",
   "name": "python3"
  },
  "language_info": {
   "codemirror_mode": {
    "name": "ipython",
    "version": 3
   },
   "file_extension": ".py",
   "mimetype": "text/x-python",
   "name": "python",
   "nbconvert_exporter": "python",
   "pygments_lexer": "ipython3",
   "version": "3.10.13"
  }
 },
 "nbformat": 4,
 "nbformat_minor": 2
}
